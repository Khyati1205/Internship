{
 "cells": [
  {
   "cell_type": "markdown",
   "id": "acbb65c5",
   "metadata": {},
   "source": [
    "# Global Power Plant Database"
   ]
  },
  {
   "cell_type": "raw",
   "id": "f231c24b",
   "metadata": {},
   "source": [
    "Project Description\n",
    "The Global Power Plant Database is a comprehensive, open source database of power plants\n",
    "around the world. It centralizes power plant data to make it easier to navigate, compare and\n",
    "draw insights for one’s own analysis. The database covers approximately 35,000 power plants\n",
    "from 167 countries and includes thermal plants (e.g. coal, gas, oil, nuclear, biomass, waste,\n",
    "geothermal) and renewables (e.g. hydro, wind, solar). Each power plant is geolocated and\n",
    "entries contain information on plant capacity, generation, ownership, and fuel type. It will be\n",
    "continuously updated as data becomes available.\n",
    "Key attributes of the database\n",
    "The database includes the following indicators:\n",
    "\n",
    " `country` (text): 3 character country code corresponding to the ISO 3166-1 alpha-3\n",
    "specification [5]\n",
    " `country_long` (text): longer form of the country designation\n",
    " `name` (text): name or title of the power plant, generally in Romanized form\n",
    " `gppd_idnr` (text): 10 or 12 character identifier for the power plant\n",
    " `capacity_mw` (number): electrical generating capacity in megawatts\n",
    " `latitude` (number): geolocation in decimal degrees; WGS84 (EPSG:4326)\n",
    " `longitude` (number): geolocation in decimal degrees; WGS84 (EPSG:4326)\n",
    " `primary_fuel` (text): energy source used in primary electricity generation or export\n",
    " `other_fuel1` (text): energy source used in electricity generation or export\n",
    " `other_fuel2` (text): energy source used in electricity generation or export\n",
    " `other_fuel3` (text): energy source used in electricity generation or export\n",
    "  `commissioning_year` (number): year of plant operation, weighted by unit-capacity\n",
    "when data is available\n",
    " `owner` (text): majority shareholder of the power plant, generally in Romanized form\n",
    " `source` (text): entity reporting the data; could be an organization, report, or document,\n",
    "generally in Romanized form\n",
    " `url` (text): web document corresponding to the `source` field\n",
    " `geolocation_source` (text): attribution for geolocation information\n",
    " `wepp_id` (text): a reference to a unique plant identifier in the widely-used PLATTS-\n",
    "WEPP database.\n",
    " `year_of_capacity_data` (number): year the capacity information was reported\n",
    " `generation_gwh_2013` (number): electricity generation in gigawatt-hours reported for\n",
    "the year 2013\n",
    " `generation_gwh_2014` (number): electricity generation in gigawatt-hours reported for\n",
    "the year 2014\n",
    " `generation_gwh_2015` (number): electricity generation in gigawatt-hours reported for\n",
    "the year 2015\n",
    " `generation_gwh_2016` (number): electricity generation in gigawatt-hours reported for\n",
    "the year 2016\n",
    " `generation_gwh_2017` (number): electricity generation in gigawatt-hours reported for\n",
    "the year 2017\n",
    " `generation_gwh_2018` (number): electricity generation in gigawatt-hours reported for\n",
    "the year 2018\n",
    " `generation_gwh_2019` (number): electricity generation in gigawatt-hours reported for\n",
    "the year 2019\n",
    " `generation_data_source` (text): attribution for the reported generation information\n",
    " `estimated_generation_gwh_2013` (number): estimated electricity generation in\n",
    "gigawatt-hours for the year 2013\n",
    " `estimated_generation_gwh_2014` (number): estimated electricity generation in\n",
    "gigawatt-hours for the year 2014 \n",
    " `estimated_generation_gwh_2015` (number): estimated electricity generation in\n",
    "gigawatt-hours for the year 2015 \n",
    " `estimated_generation_gwh_2016` (number): estimated electricity generation in\n",
    "gigawatt-hours for the year 2016 \n",
    " `estimated_generation_gwh_2017` (number): estimated electricity generation in\n",
    "gigawatt-hours for the year 2017 \n",
    " &#39;estimated_generation_note_2013` (text): label of the model/method used to estimate\n",
    "generation for the year 2013\n",
    " `estimated_generation_note_2014` (text): label of the model/method used to estimate\n",
    "generation for the year 2014 \n",
    " `estimated_generation_note_2015` (text): label of the model/method used to estimate\n",
    "generation for the year 2015\n",
    " `estimated_generation_note_2016` (text): label of the model/method used to estimate\n",
    "generation for the year 2016\n",
    " `estimated_generation_note_2017` (text): label of the model/method used to estimate\n",
    "generation for the year 2017 \n",
    "Fuel Type Aggregation\n",
    "We define the &quot;Fuel Type&quot; attribute of our database based on common fuel categories. \n",
    "Prediction :   Make two prediction  1) Primary Fuel    2) capacity_mw\n",
    "    \n",
    "Dataset Link-\n",
    " https://github.com/wri/global-power-plant-\n",
    "database/blob/master/source_databases_csv/database_IND.csv"
   ]
  },
  {
   "cell_type": "code",
   "execution_count": 5,
   "id": "cb2377ee",
   "metadata": {},
   "outputs": [],
   "source": [
    "import pandas as pd\n",
    "import numpy as np \n",
    "import seaborn as sns\n",
    "import matplotlib.pyplot as plt\n",
    "from scipy.stats import boxcox\n",
    "from scipy import stats\n",
    "from sklearn.metrics import accuracy_score, confusion_matrix, classification_report\n",
    "from sklearn.metrics import roc_curve, roc_auc_score\n",
    "import warnings\n",
    "warnings.filterwarnings('ignore')\n",
    "from sklearn.datasets import make_classification\n",
    "from sklearn.ensemble import RandomForestClassifier\n",
    "from sklearn.model_selection import GridSearchCV"
   ]
  },
  {
   "cell_type": "code",
   "execution_count": 28,
   "id": "ceb42e56",
   "metadata": {},
   "outputs": [],
   "source": [
    "df = pd.read_csv('https://raw.githubusercontent.com/wri/global-power-plant-database/master/source_databases_csv/database_IND.csv')"
   ]
  },
  {
   "cell_type": "code",
   "execution_count": 29,
   "id": "8a6da2d5",
   "metadata": {},
   "outputs": [
    {
     "data": {
      "text/html": [
       "<div>\n",
       "<style scoped>\n",
       "    .dataframe tbody tr th:only-of-type {\n",
       "        vertical-align: middle;\n",
       "    }\n",
       "\n",
       "    .dataframe tbody tr th {\n",
       "        vertical-align: top;\n",
       "    }\n",
       "\n",
       "    .dataframe thead th {\n",
       "        text-align: right;\n",
       "    }\n",
       "</style>\n",
       "<table border=\"1\" class=\"dataframe\">\n",
       "  <thead>\n",
       "    <tr style=\"text-align: right;\">\n",
       "      <th></th>\n",
       "      <th>country</th>\n",
       "      <th>country_long</th>\n",
       "      <th>name</th>\n",
       "      <th>gppd_idnr</th>\n",
       "      <th>capacity_mw</th>\n",
       "      <th>latitude</th>\n",
       "      <th>longitude</th>\n",
       "      <th>primary_fuel</th>\n",
       "      <th>other_fuel1</th>\n",
       "      <th>other_fuel2</th>\n",
       "      <th>...</th>\n",
       "      <th>year_of_capacity_data</th>\n",
       "      <th>generation_gwh_2013</th>\n",
       "      <th>generation_gwh_2014</th>\n",
       "      <th>generation_gwh_2015</th>\n",
       "      <th>generation_gwh_2016</th>\n",
       "      <th>generation_gwh_2017</th>\n",
       "      <th>generation_gwh_2018</th>\n",
       "      <th>generation_gwh_2019</th>\n",
       "      <th>generation_data_source</th>\n",
       "      <th>estimated_generation_gwh</th>\n",
       "    </tr>\n",
       "  </thead>\n",
       "  <tbody>\n",
       "    <tr>\n",
       "      <th>0</th>\n",
       "      <td>IND</td>\n",
       "      <td>India</td>\n",
       "      <td>ACME Solar Tower</td>\n",
       "      <td>WRI1020239</td>\n",
       "      <td>2.5</td>\n",
       "      <td>28.1839</td>\n",
       "      <td>73.2407</td>\n",
       "      <td>Solar</td>\n",
       "      <td>NaN</td>\n",
       "      <td>NaN</td>\n",
       "      <td>...</td>\n",
       "      <td>NaN</td>\n",
       "      <td>NaN</td>\n",
       "      <td>NaN</td>\n",
       "      <td>NaN</td>\n",
       "      <td>NaN</td>\n",
       "      <td>NaN</td>\n",
       "      <td>NaN</td>\n",
       "      <td>NaN</td>\n",
       "      <td>NaN</td>\n",
       "      <td>NaN</td>\n",
       "    </tr>\n",
       "    <tr>\n",
       "      <th>1</th>\n",
       "      <td>IND</td>\n",
       "      <td>India</td>\n",
       "      <td>ADITYA CEMENT WORKS</td>\n",
       "      <td>WRI1019881</td>\n",
       "      <td>98.0</td>\n",
       "      <td>24.7663</td>\n",
       "      <td>74.6090</td>\n",
       "      <td>Coal</td>\n",
       "      <td>NaN</td>\n",
       "      <td>NaN</td>\n",
       "      <td>...</td>\n",
       "      <td>NaN</td>\n",
       "      <td>NaN</td>\n",
       "      <td>NaN</td>\n",
       "      <td>NaN</td>\n",
       "      <td>NaN</td>\n",
       "      <td>NaN</td>\n",
       "      <td>NaN</td>\n",
       "      <td>NaN</td>\n",
       "      <td>NaN</td>\n",
       "      <td>NaN</td>\n",
       "    </tr>\n",
       "    <tr>\n",
       "      <th>2</th>\n",
       "      <td>IND</td>\n",
       "      <td>India</td>\n",
       "      <td>AES Saurashtra Windfarms</td>\n",
       "      <td>WRI1026669</td>\n",
       "      <td>39.2</td>\n",
       "      <td>21.9038</td>\n",
       "      <td>69.3732</td>\n",
       "      <td>Wind</td>\n",
       "      <td>NaN</td>\n",
       "      <td>NaN</td>\n",
       "      <td>...</td>\n",
       "      <td>NaN</td>\n",
       "      <td>NaN</td>\n",
       "      <td>NaN</td>\n",
       "      <td>NaN</td>\n",
       "      <td>NaN</td>\n",
       "      <td>NaN</td>\n",
       "      <td>NaN</td>\n",
       "      <td>NaN</td>\n",
       "      <td>NaN</td>\n",
       "      <td>NaN</td>\n",
       "    </tr>\n",
       "    <tr>\n",
       "      <th>3</th>\n",
       "      <td>IND</td>\n",
       "      <td>India</td>\n",
       "      <td>AGARTALA GT</td>\n",
       "      <td>IND0000001</td>\n",
       "      <td>135.0</td>\n",
       "      <td>23.8712</td>\n",
       "      <td>91.3602</td>\n",
       "      <td>Gas</td>\n",
       "      <td>NaN</td>\n",
       "      <td>NaN</td>\n",
       "      <td>...</td>\n",
       "      <td>2019.0</td>\n",
       "      <td>NaN</td>\n",
       "      <td>617.789264</td>\n",
       "      <td>843.747</td>\n",
       "      <td>886.004428</td>\n",
       "      <td>663.774500</td>\n",
       "      <td>626.239128</td>\n",
       "      <td>NaN</td>\n",
       "      <td>Central Electricity Authority</td>\n",
       "      <td>NaN</td>\n",
       "    </tr>\n",
       "    <tr>\n",
       "      <th>4</th>\n",
       "      <td>IND</td>\n",
       "      <td>India</td>\n",
       "      <td>AKALTARA TPP</td>\n",
       "      <td>IND0000002</td>\n",
       "      <td>1800.0</td>\n",
       "      <td>21.9603</td>\n",
       "      <td>82.4091</td>\n",
       "      <td>Coal</td>\n",
       "      <td>Oil</td>\n",
       "      <td>NaN</td>\n",
       "      <td>...</td>\n",
       "      <td>2019.0</td>\n",
       "      <td>NaN</td>\n",
       "      <td>3035.550000</td>\n",
       "      <td>5916.370</td>\n",
       "      <td>6243.000000</td>\n",
       "      <td>5385.579736</td>\n",
       "      <td>7279.000000</td>\n",
       "      <td>NaN</td>\n",
       "      <td>Central Electricity Authority</td>\n",
       "      <td>NaN</td>\n",
       "    </tr>\n",
       "  </tbody>\n",
       "</table>\n",
       "<p>5 rows × 27 columns</p>\n",
       "</div>"
      ],
      "text/plain": [
       "  country country_long                      name   gppd_idnr  capacity_mw  \\\n",
       "0     IND        India          ACME Solar Tower  WRI1020239          2.5   \n",
       "1     IND        India       ADITYA CEMENT WORKS  WRI1019881         98.0   \n",
       "2     IND        India  AES Saurashtra Windfarms  WRI1026669         39.2   \n",
       "3     IND        India               AGARTALA GT  IND0000001        135.0   \n",
       "4     IND        India              AKALTARA TPP  IND0000002       1800.0   \n",
       "\n",
       "   latitude  longitude primary_fuel other_fuel1 other_fuel2  ...  \\\n",
       "0   28.1839    73.2407        Solar         NaN         NaN  ...   \n",
       "1   24.7663    74.6090         Coal         NaN         NaN  ...   \n",
       "2   21.9038    69.3732         Wind         NaN         NaN  ...   \n",
       "3   23.8712    91.3602          Gas         NaN         NaN  ...   \n",
       "4   21.9603    82.4091         Coal         Oil         NaN  ...   \n",
       "\n",
       "   year_of_capacity_data  generation_gwh_2013 generation_gwh_2014  \\\n",
       "0                    NaN                  NaN                 NaN   \n",
       "1                    NaN                  NaN                 NaN   \n",
       "2                    NaN                  NaN                 NaN   \n",
       "3                 2019.0                  NaN          617.789264   \n",
       "4                 2019.0                  NaN         3035.550000   \n",
       "\n",
       "  generation_gwh_2015 generation_gwh_2016 generation_gwh_2017  \\\n",
       "0                 NaN                 NaN                 NaN   \n",
       "1                 NaN                 NaN                 NaN   \n",
       "2                 NaN                 NaN                 NaN   \n",
       "3             843.747          886.004428          663.774500   \n",
       "4            5916.370         6243.000000         5385.579736   \n",
       "\n",
       "   generation_gwh_2018  generation_gwh_2019         generation_data_source  \\\n",
       "0                  NaN                  NaN                            NaN   \n",
       "1                  NaN                  NaN                            NaN   \n",
       "2                  NaN                  NaN                            NaN   \n",
       "3           626.239128                  NaN  Central Electricity Authority   \n",
       "4          7279.000000                  NaN  Central Electricity Authority   \n",
       "\n",
       "   estimated_generation_gwh  \n",
       "0                       NaN  \n",
       "1                       NaN  \n",
       "2                       NaN  \n",
       "3                       NaN  \n",
       "4                       NaN  \n",
       "\n",
       "[5 rows x 27 columns]"
      ]
     },
     "execution_count": 29,
     "metadata": {},
     "output_type": "execute_result"
    }
   ],
   "source": [
    "# to check thd first 5 columns of the dataframe. \n",
    "df.head()"
   ]
  },
  {
   "cell_type": "code",
   "execution_count": 30,
   "id": "e6e270ae",
   "metadata": {},
   "outputs": [
    {
     "data": {
      "text/html": [
       "<div>\n",
       "<style scoped>\n",
       "    .dataframe tbody tr th:only-of-type {\n",
       "        vertical-align: middle;\n",
       "    }\n",
       "\n",
       "    .dataframe tbody tr th {\n",
       "        vertical-align: top;\n",
       "    }\n",
       "\n",
       "    .dataframe thead th {\n",
       "        text-align: right;\n",
       "    }\n",
       "</style>\n",
       "<table border=\"1\" class=\"dataframe\">\n",
       "  <thead>\n",
       "    <tr style=\"text-align: right;\">\n",
       "      <th></th>\n",
       "      <th>country</th>\n",
       "      <th>country_long</th>\n",
       "      <th>name</th>\n",
       "      <th>gppd_idnr</th>\n",
       "      <th>capacity_mw</th>\n",
       "      <th>latitude</th>\n",
       "      <th>longitude</th>\n",
       "      <th>primary_fuel</th>\n",
       "      <th>other_fuel1</th>\n",
       "      <th>other_fuel2</th>\n",
       "      <th>...</th>\n",
       "      <th>year_of_capacity_data</th>\n",
       "      <th>generation_gwh_2013</th>\n",
       "      <th>generation_gwh_2014</th>\n",
       "      <th>generation_gwh_2015</th>\n",
       "      <th>generation_gwh_2016</th>\n",
       "      <th>generation_gwh_2017</th>\n",
       "      <th>generation_gwh_2018</th>\n",
       "      <th>generation_gwh_2019</th>\n",
       "      <th>generation_data_source</th>\n",
       "      <th>estimated_generation_gwh</th>\n",
       "    </tr>\n",
       "  </thead>\n",
       "  <tbody>\n",
       "    <tr>\n",
       "      <th>902</th>\n",
       "      <td>IND</td>\n",
       "      <td>India</td>\n",
       "      <td>YERMARUS TPP</td>\n",
       "      <td>IND0000513</td>\n",
       "      <td>1600.0</td>\n",
       "      <td>16.2949</td>\n",
       "      <td>77.3568</td>\n",
       "      <td>Coal</td>\n",
       "      <td>Oil</td>\n",
       "      <td>NaN</td>\n",
       "      <td>...</td>\n",
       "      <td>2019.0</td>\n",
       "      <td>NaN</td>\n",
       "      <td>NaN</td>\n",
       "      <td>0.994875</td>\n",
       "      <td>233.59665</td>\n",
       "      <td>865.4</td>\n",
       "      <td>686.5</td>\n",
       "      <td>NaN</td>\n",
       "      <td>Central Electricity Authority</td>\n",
       "      <td>NaN</td>\n",
       "    </tr>\n",
       "    <tr>\n",
       "      <th>903</th>\n",
       "      <td>IND</td>\n",
       "      <td>India</td>\n",
       "      <td>Yelesandra Solar Power Plant</td>\n",
       "      <td>WRI1026222</td>\n",
       "      <td>3.0</td>\n",
       "      <td>12.8932</td>\n",
       "      <td>78.1654</td>\n",
       "      <td>Solar</td>\n",
       "      <td>NaN</td>\n",
       "      <td>NaN</td>\n",
       "      <td>...</td>\n",
       "      <td>NaN</td>\n",
       "      <td>NaN</td>\n",
       "      <td>NaN</td>\n",
       "      <td>NaN</td>\n",
       "      <td>NaN</td>\n",
       "      <td>NaN</td>\n",
       "      <td>NaN</td>\n",
       "      <td>NaN</td>\n",
       "      <td>NaN</td>\n",
       "      <td>NaN</td>\n",
       "    </tr>\n",
       "    <tr>\n",
       "      <th>904</th>\n",
       "      <td>IND</td>\n",
       "      <td>India</td>\n",
       "      <td>Yelisirur wind power project</td>\n",
       "      <td>WRI1026776</td>\n",
       "      <td>25.5</td>\n",
       "      <td>15.2758</td>\n",
       "      <td>75.5811</td>\n",
       "      <td>Wind</td>\n",
       "      <td>NaN</td>\n",
       "      <td>NaN</td>\n",
       "      <td>...</td>\n",
       "      <td>NaN</td>\n",
       "      <td>NaN</td>\n",
       "      <td>NaN</td>\n",
       "      <td>NaN</td>\n",
       "      <td>NaN</td>\n",
       "      <td>NaN</td>\n",
       "      <td>NaN</td>\n",
       "      <td>NaN</td>\n",
       "      <td>NaN</td>\n",
       "      <td>NaN</td>\n",
       "    </tr>\n",
       "    <tr>\n",
       "      <th>905</th>\n",
       "      <td>IND</td>\n",
       "      <td>India</td>\n",
       "      <td>ZAWAR MINES</td>\n",
       "      <td>WRI1019901</td>\n",
       "      <td>80.0</td>\n",
       "      <td>24.3500</td>\n",
       "      <td>73.7477</td>\n",
       "      <td>Coal</td>\n",
       "      <td>NaN</td>\n",
       "      <td>NaN</td>\n",
       "      <td>...</td>\n",
       "      <td>NaN</td>\n",
       "      <td>NaN</td>\n",
       "      <td>NaN</td>\n",
       "      <td>NaN</td>\n",
       "      <td>NaN</td>\n",
       "      <td>NaN</td>\n",
       "      <td>NaN</td>\n",
       "      <td>NaN</td>\n",
       "      <td>NaN</td>\n",
       "      <td>NaN</td>\n",
       "    </tr>\n",
       "    <tr>\n",
       "      <th>906</th>\n",
       "      <td>IND</td>\n",
       "      <td>India</td>\n",
       "      <td>iEnergy Theni Wind Farm</td>\n",
       "      <td>WRI1026761</td>\n",
       "      <td>16.5</td>\n",
       "      <td>9.9344</td>\n",
       "      <td>77.4768</td>\n",
       "      <td>Wind</td>\n",
       "      <td>NaN</td>\n",
       "      <td>NaN</td>\n",
       "      <td>...</td>\n",
       "      <td>NaN</td>\n",
       "      <td>NaN</td>\n",
       "      <td>NaN</td>\n",
       "      <td>NaN</td>\n",
       "      <td>NaN</td>\n",
       "      <td>NaN</td>\n",
       "      <td>NaN</td>\n",
       "      <td>NaN</td>\n",
       "      <td>NaN</td>\n",
       "      <td>NaN</td>\n",
       "    </tr>\n",
       "  </tbody>\n",
       "</table>\n",
       "<p>5 rows × 27 columns</p>\n",
       "</div>"
      ],
      "text/plain": [
       "    country country_long                          name   gppd_idnr  \\\n",
       "902     IND        India                  YERMARUS TPP  IND0000513   \n",
       "903     IND        India  Yelesandra Solar Power Plant  WRI1026222   \n",
       "904     IND        India  Yelisirur wind power project  WRI1026776   \n",
       "905     IND        India                   ZAWAR MINES  WRI1019901   \n",
       "906     IND        India       iEnergy Theni Wind Farm  WRI1026761   \n",
       "\n",
       "     capacity_mw  latitude  longitude primary_fuel other_fuel1 other_fuel2  \\\n",
       "902       1600.0   16.2949    77.3568         Coal         Oil         NaN   \n",
       "903          3.0   12.8932    78.1654        Solar         NaN         NaN   \n",
       "904         25.5   15.2758    75.5811         Wind         NaN         NaN   \n",
       "905         80.0   24.3500    73.7477         Coal         NaN         NaN   \n",
       "906         16.5    9.9344    77.4768         Wind         NaN         NaN   \n",
       "\n",
       "     ...  year_of_capacity_data  generation_gwh_2013 generation_gwh_2014  \\\n",
       "902  ...                 2019.0                  NaN                 NaN   \n",
       "903  ...                    NaN                  NaN                 NaN   \n",
       "904  ...                    NaN                  NaN                 NaN   \n",
       "905  ...                    NaN                  NaN                 NaN   \n",
       "906  ...                    NaN                  NaN                 NaN   \n",
       "\n",
       "    generation_gwh_2015 generation_gwh_2016 generation_gwh_2017  \\\n",
       "902            0.994875           233.59665               865.4   \n",
       "903                 NaN                 NaN                 NaN   \n",
       "904                 NaN                 NaN                 NaN   \n",
       "905                 NaN                 NaN                 NaN   \n",
       "906                 NaN                 NaN                 NaN   \n",
       "\n",
       "     generation_gwh_2018  generation_gwh_2019         generation_data_source  \\\n",
       "902                686.5                  NaN  Central Electricity Authority   \n",
       "903                  NaN                  NaN                            NaN   \n",
       "904                  NaN                  NaN                            NaN   \n",
       "905                  NaN                  NaN                            NaN   \n",
       "906                  NaN                  NaN                            NaN   \n",
       "\n",
       "     estimated_generation_gwh  \n",
       "902                       NaN  \n",
       "903                       NaN  \n",
       "904                       NaN  \n",
       "905                       NaN  \n",
       "906                       NaN  \n",
       "\n",
       "[5 rows x 27 columns]"
      ]
     },
     "execution_count": 30,
     "metadata": {},
     "output_type": "execute_result"
    }
   ],
   "source": [
    "df.tail()"
   ]
  },
  {
   "cell_type": "code",
   "execution_count": 31,
   "id": "4fb997e0",
   "metadata": {},
   "outputs": [
    {
     "data": {
      "text/plain": [
       "['country',\n",
       " 'country_long',\n",
       " 'name',\n",
       " 'gppd_idnr',\n",
       " 'capacity_mw',\n",
       " 'latitude',\n",
       " 'longitude',\n",
       " 'primary_fuel',\n",
       " 'other_fuel1',\n",
       " 'other_fuel2',\n",
       " 'other_fuel3',\n",
       " 'commissioning_year',\n",
       " 'owner',\n",
       " 'source',\n",
       " 'url',\n",
       " 'geolocation_source',\n",
       " 'wepp_id',\n",
       " 'year_of_capacity_data',\n",
       " 'generation_gwh_2013',\n",
       " 'generation_gwh_2014',\n",
       " 'generation_gwh_2015',\n",
       " 'generation_gwh_2016',\n",
       " 'generation_gwh_2017',\n",
       " 'generation_gwh_2018',\n",
       " 'generation_gwh_2019',\n",
       " 'generation_data_source',\n",
       " 'estimated_generation_gwh']"
      ]
     },
     "execution_count": 31,
     "metadata": {},
     "output_type": "execute_result"
    }
   ],
   "source": [
    "df.columns.tolist()"
   ]
  },
  {
   "cell_type": "code",
   "execution_count": 32,
   "id": "d5cad440",
   "metadata": {},
   "outputs": [
    {
     "data": {
      "text/plain": [
       "(907, 27)"
      ]
     },
     "execution_count": 32,
     "metadata": {},
     "output_type": "execute_result"
    }
   ],
   "source": [
    "df.shape"
   ]
  },
  {
   "cell_type": "code",
   "execution_count": 33,
   "id": "2ccd7796",
   "metadata": {},
   "outputs": [
    {
     "name": "stdout",
     "output_type": "stream",
     "text": [
      "Number of columns -  27\n",
      "Number of rows -  907\n"
     ]
    }
   ],
   "source": [
    "# printing the number of rows and the columns.\n",
    "print('Number of columns - ',df.shape[1])\n",
    "print('Number of rows - ',df.shape[0])"
   ]
  },
  {
   "cell_type": "code",
   "execution_count": 34,
   "id": "7348f2d3",
   "metadata": {},
   "outputs": [
    {
     "name": "stdout",
     "output_type": "stream",
     "text": [
      "<class 'pandas.core.frame.DataFrame'>\n",
      "RangeIndex: 907 entries, 0 to 906\n",
      "Data columns (total 27 columns):\n",
      " #   Column                    Non-Null Count  Dtype  \n",
      "---  ------                    --------------  -----  \n",
      " 0   country                   907 non-null    object \n",
      " 1   country_long              907 non-null    object \n",
      " 2   name                      907 non-null    object \n",
      " 3   gppd_idnr                 907 non-null    object \n",
      " 4   capacity_mw               907 non-null    float64\n",
      " 5   latitude                  861 non-null    float64\n",
      " 6   longitude                 861 non-null    float64\n",
      " 7   primary_fuel              907 non-null    object \n",
      " 8   other_fuel1               198 non-null    object \n",
      " 9   other_fuel2               1 non-null      object \n",
      " 10  other_fuel3               0 non-null      float64\n",
      " 11  commissioning_year        527 non-null    float64\n",
      " 12  owner                     342 non-null    object \n",
      " 13  source                    907 non-null    object \n",
      " 14  url                       907 non-null    object \n",
      " 15  geolocation_source        888 non-null    object \n",
      " 16  wepp_id                   0 non-null      float64\n",
      " 17  year_of_capacity_data     519 non-null    float64\n",
      " 18  generation_gwh_2013       0 non-null      float64\n",
      " 19  generation_gwh_2014       398 non-null    float64\n",
      " 20  generation_gwh_2015       422 non-null    float64\n",
      " 21  generation_gwh_2016       434 non-null    float64\n",
      " 22  generation_gwh_2017       440 non-null    float64\n",
      " 23  generation_gwh_2018       448 non-null    float64\n",
      " 24  generation_gwh_2019       0 non-null      float64\n",
      " 25  generation_data_source    449 non-null    object \n",
      " 26  estimated_generation_gwh  0 non-null      float64\n",
      "dtypes: float64(15), object(12)\n",
      "memory usage: 191.4+ KB\n"
     ]
    }
   ],
   "source": [
    "df.info()"
   ]
  },
  {
   "cell_type": "code",
   "execution_count": 35,
   "id": "9d1803e2",
   "metadata": {},
   "outputs": [],
   "source": [
    "#There are two float64, object."
   ]
  },
  {
   "cell_type": "code",
   "execution_count": 36,
   "id": "7b7a4116",
   "metadata": {},
   "outputs": [
    {
     "data": {
      "text/plain": [
       "country                       0\n",
       "country_long                  0\n",
       "name                          0\n",
       "gppd_idnr                     0\n",
       "capacity_mw                   0\n",
       "latitude                     46\n",
       "longitude                    46\n",
       "primary_fuel                  0\n",
       "other_fuel1                 709\n",
       "other_fuel2                 906\n",
       "other_fuel3                 907\n",
       "commissioning_year          380\n",
       "owner                       565\n",
       "source                        0\n",
       "url                           0\n",
       "geolocation_source           19\n",
       "wepp_id                     907\n",
       "year_of_capacity_data       388\n",
       "generation_gwh_2013         907\n",
       "generation_gwh_2014         509\n",
       "generation_gwh_2015         485\n",
       "generation_gwh_2016         473\n",
       "generation_gwh_2017         467\n",
       "generation_gwh_2018         459\n",
       "generation_gwh_2019         907\n",
       "generation_data_source      458\n",
       "estimated_generation_gwh    907\n",
       "dtype: int64"
      ]
     },
     "execution_count": 36,
     "metadata": {},
     "output_type": "execute_result"
    }
   ],
   "source": [
    "df.isnull().sum()"
   ]
  },
  {
   "cell_type": "code",
   "execution_count": 37,
   "id": "02c12d81",
   "metadata": {},
   "outputs": [
    {
     "data": {
      "text/plain": [
       "<AxesSubplot:>"
      ]
     },
     "execution_count": 37,
     "metadata": {},
     "output_type": "execute_result"
    },
    {
     "data": {
      "image/png": "[encoded data removed]",
      "text/plain": [
       "<Figure size 432x288 with 2 Axes>"
      ]
     },
     "metadata": {
      "needs_background": "light"
     },
     "output_type": "display_data"
    }
   ],
   "source": [
    "sns.heatmap(df.isnull())"
   ]
  },
  {
   "cell_type": "code",
   "execution_count": 13,
   "id": "30bfd807",
   "metadata": {},
   "outputs": [
    {
     "ename": "NameError",
     "evalue": "name 'df' is not defined",
     "output_type": "error",
     "traceback": [
      "\u001b[1;31m---------------------------------------------------------------------------\u001b[0m",
      "\u001b[1;31mNameError\u001b[0m                                 Traceback (most recent call last)",
      "Input \u001b[1;32mIn [13]\u001b[0m, in \u001b[0;36m<cell line: 1>\u001b[1;34m()\u001b[0m\n\u001b[1;32m----> 1\u001b[0m \u001b[38;5;28;01mfor\u001b[39;00m col \u001b[38;5;129;01min\u001b[39;00m \u001b[43mdf\u001b[49m\u001b[38;5;241m.\u001b[39mcolumns:\n\u001b[0;32m      2\u001b[0m     \u001b[38;5;28mprint\u001b[39m(\u001b[38;5;124mf\u001b[39m\u001b[38;5;124m\"\u001b[39m\u001b[38;5;124mColumn: \u001b[39m\u001b[38;5;132;01m{\u001b[39;00mcol\u001b[38;5;132;01m}\u001b[39;00m\u001b[38;5;124m\"\u001b[39m)\n\u001b[0;32m      3\u001b[0m     \u001b[38;5;28mprint\u001b[39m(df[col]\u001b[38;5;241m.\u001b[39mvalue_counts())\n",
      "\u001b[1;31mNameError\u001b[0m: name 'df' is not defined"
     ]
    }
   ],
   "source": [
    "\n",
    "for col in df.columns:\n",
    "    print(f\"Column: {col}\")\n",
    "    print(df[col].value_counts())\n",
    "    print(\"\\n\")"
   ]
  },
  {
   "cell_type": "code",
   "execution_count": 14,
   "id": "fbd4ecc8",
   "metadata": {},
   "outputs": [
    {
     "ename": "NameError",
     "evalue": "name 'df' is not defined",
     "output_type": "error",
     "traceback": [
      "\u001b[1;31m---------------------------------------------------------------------------\u001b[0m",
      "\u001b[1;31mNameError\u001b[0m                                 Traceback (most recent call last)",
      "Input \u001b[1;32mIn [14]\u001b[0m, in \u001b[0;36m<cell line: 2>\u001b[1;34m()\u001b[0m\n\u001b[0;32m      1\u001b[0m \u001b[38;5;66;03m# to check the no. of unique values present in the data.\u001b[39;00m\n\u001b[1;32m----> 2\u001b[0m \u001b[43mdf\u001b[49m\u001b[38;5;241m.\u001b[39mnunique()\u001b[38;5;241m.\u001b[39mto_frame(\u001b[38;5;124m\"\u001b[39m\u001b[38;5;124mNo. of unique value\u001b[39m\u001b[38;5;124m\"\u001b[39m)\n",
      "\u001b[1;31mNameError\u001b[0m: name 'df' is not defined"
     ]
    }
   ],
   "source": [
    "# to check the no. of unique values present in the data.\n",
    "df.nunique().to_frame(\"No. of unique value\")"
   ]
  },
  {
   "cell_type": "code",
   "execution_count": 15,
   "id": "6b5cb4eb",
   "metadata": {},
   "outputs": [
    {
     "ename": "NameError",
     "evalue": "name 'df' is not defined",
     "output_type": "error",
     "traceback": [
      "\u001b[1;31m---------------------------------------------------------------------------\u001b[0m",
      "\u001b[1;31mNameError\u001b[0m                                 Traceback (most recent call last)",
      "Input \u001b[1;32mIn [15]\u001b[0m, in \u001b[0;36m<cell line: 1>\u001b[1;34m()\u001b[0m\n\u001b[1;32m----> 1\u001b[0m \u001b[43mdf\u001b[49m\u001b[38;5;241m.\u001b[39misnull()\u001b[38;5;241m.\u001b[39msum()\n",
      "\u001b[1;31mNameError\u001b[0m: name 'df' is not defined"
     ]
    }
   ],
   "source": [
    "df.isnull().sum()"
   ]
  },
  {
   "cell_type": "code",
   "execution_count": 16,
   "id": "04a6e6d6",
   "metadata": {},
   "outputs": [
    {
     "ename": "NameError",
     "evalue": "name 'df' is not defined",
     "output_type": "error",
     "traceback": [
      "\u001b[1;31m---------------------------------------------------------------------------\u001b[0m",
      "\u001b[1;31mNameError\u001b[0m                                 Traceback (most recent call last)",
      "Input \u001b[1;32mIn [16]\u001b[0m, in \u001b[0;36m<cell line: 2>\u001b[1;34m()\u001b[0m\n\u001b[0;32m      1\u001b[0m \u001b[38;5;66;03m# Replacing the missing values in the Numerical Columns using the mean method \u001b[39;00m\n\u001b[1;32m----> 2\u001b[0m \u001b[43mdf\u001b[49m[\u001b[38;5;124m'\u001b[39m\u001b[38;5;124mlatitude\u001b[39m\u001b[38;5;124m'\u001b[39m]\u001b[38;5;241m.\u001b[39mfillna(df[\u001b[38;5;124m'\u001b[39m\u001b[38;5;124mlatitude\u001b[39m\u001b[38;5;124m'\u001b[39m]\u001b[38;5;241m.\u001b[39mmean(),inplace\u001b[38;5;241m=\u001b[39m\u001b[38;5;28;01mTrue\u001b[39;00m)\n\u001b[0;32m      3\u001b[0m df[\u001b[38;5;124m'\u001b[39m\u001b[38;5;124mlongitude\u001b[39m\u001b[38;5;124m'\u001b[39m]\u001b[38;5;241m.\u001b[39mfillna(df[\u001b[38;5;124m'\u001b[39m\u001b[38;5;124mlongitude\u001b[39m\u001b[38;5;124m'\u001b[39m]\u001b[38;5;241m.\u001b[39mmean(),inplace\u001b[38;5;241m=\u001b[39m\u001b[38;5;28;01mTrue\u001b[39;00m)\n",
      "\u001b[1;31mNameError\u001b[0m: name 'df' is not defined"
     ]
    }
   ],
   "source": [
    "# Replacing the missing values in the Numerical Columns using the mean method \n",
    "df['latitude'].fillna(df['latitude'].mean(),inplace=True)\n",
    "df['longitude'].fillna(df['longitude'].mean(),inplace=True)"
   ]
  },
  {
   "cell_type": "code",
   "execution_count": 17,
   "id": "5fe7a907",
   "metadata": {},
   "outputs": [
    {
     "ename": "NameError",
     "evalue": "name 'df' is not defined",
     "output_type": "error",
     "traceback": [
      "\u001b[1;31m---------------------------------------------------------------------------\u001b[0m",
      "\u001b[1;31mNameError\u001b[0m                                 Traceback (most recent call last)",
      "Input \u001b[1;32mIn [17]\u001b[0m, in \u001b[0;36m<cell line: 2>\u001b[1;34m()\u001b[0m\n\u001b[0;32m      1\u001b[0m \u001b[38;5;66;03m# Repacing the categorical values with the mode im the dataframe. \u001b[39;00m\n\u001b[1;32m----> 2\u001b[0m \u001b[43mdf\u001b[49m[\u001b[38;5;124m'\u001b[39m\u001b[38;5;124mgeolocation_source\u001b[39m\u001b[38;5;124m'\u001b[39m]\u001b[38;5;241m.\u001b[39mfillna(df[\u001b[38;5;124m'\u001b[39m\u001b[38;5;124mgeolocation_source\u001b[39m\u001b[38;5;124m'\u001b[39m]\u001b[38;5;241m.\u001b[39mmode()[\u001b[38;5;241m0\u001b[39m], inplace\u001b[38;5;241m=\u001b[39m\u001b[38;5;28;01mTrue\u001b[39;00m)\n",
      "\u001b[1;31mNameError\u001b[0m: name 'df' is not defined"
     ]
    }
   ],
   "source": [
    "# Repacing the categorical values with the mode im the dataframe. \n",
    "df['geolocation_source'].fillna(df['geolocation_source'].mode()[0], inplace=True)\n"
   ]
  },
  {
   "cell_type": "code",
   "execution_count": 18,
   "id": "f0a501d5",
   "metadata": {},
   "outputs": [
    {
     "ename": "NameError",
     "evalue": "name 'df' is not defined",
     "output_type": "error",
     "traceback": [
      "\u001b[1;31m---------------------------------------------------------------------------\u001b[0m",
      "\u001b[1;31mNameError\u001b[0m                                 Traceback (most recent call last)",
      "Input \u001b[1;32mIn [18]\u001b[0m, in \u001b[0;36m<cell line: 1>\u001b[1;34m()\u001b[0m\n\u001b[1;32m----> 1\u001b[0m \u001b[43mdf\u001b[49m\u001b[38;5;241m.\u001b[39misnull()\u001b[38;5;241m.\u001b[39msum()\n",
      "\u001b[1;31mNameError\u001b[0m: name 'df' is not defined"
     ]
    }
   ],
   "source": [
    "df.isnull().sum()"
   ]
  },
  {
   "cell_type": "code",
   "execution_count": 19,
   "id": "26f54e9a",
   "metadata": {},
   "outputs": [
    {
     "ename": "NameError",
     "evalue": "name 'df' is not defined",
     "output_type": "error",
     "traceback": [
      "\u001b[1;31m---------------------------------------------------------------------------\u001b[0m",
      "\u001b[1;31mNameError\u001b[0m                                 Traceback (most recent call last)",
      "Input \u001b[1;32mIn [19]\u001b[0m, in \u001b[0;36m<cell line: 2>\u001b[1;34m()\u001b[0m\n\u001b[0;32m      1\u001b[0m \u001b[38;5;66;03m# dropping the missing values. \u001b[39;00m\n\u001b[1;32m----> 2\u001b[0m df \u001b[38;5;241m=\u001b[39m \u001b[43mdf\u001b[49m\u001b[38;5;241m.\u001b[39mdropna(axis\u001b[38;5;241m=\u001b[39m\u001b[38;5;241m1\u001b[39m)\n",
      "\u001b[1;31mNameError\u001b[0m: name 'df' is not defined"
     ]
    }
   ],
   "source": [
    "# dropping the missing values. \n",
    "df = df.dropna(axis=1)"
   ]
  },
  {
   "cell_type": "code",
   "execution_count": 20,
   "id": "107a7fdf",
   "metadata": {},
   "outputs": [
    {
     "ename": "NameError",
     "evalue": "name 'df' is not defined",
     "output_type": "error",
     "traceback": [
      "\u001b[1;31m---------------------------------------------------------------------------\u001b[0m",
      "\u001b[1;31mNameError\u001b[0m                                 Traceback (most recent call last)",
      "Input \u001b[1;32mIn [20]\u001b[0m, in \u001b[0;36m<cell line: 2>\u001b[1;34m()\u001b[0m\n\u001b[0;32m      1\u001b[0m \u001b[38;5;66;03m# Checking the shape of the dataframe.\u001b[39;00m\n\u001b[1;32m----> 2\u001b[0m \u001b[43mdf\u001b[49m\u001b[38;5;241m.\u001b[39mshape\n",
      "\u001b[1;31mNameError\u001b[0m: name 'df' is not defined"
     ]
    }
   ],
   "source": [
    "# Checking the shape of the dataframe.\n",
    "df.shape"
   ]
  },
  {
   "cell_type": "code",
   "execution_count": 21,
   "id": "b64a1556",
   "metadata": {},
   "outputs": [
    {
     "ename": "NameError",
     "evalue": "name 'df' is not defined",
     "output_type": "error",
     "traceback": [
      "\u001b[1;31m---------------------------------------------------------------------------\u001b[0m",
      "\u001b[1;31mNameError\u001b[0m                                 Traceback (most recent call last)",
      "Input \u001b[1;32mIn [21]\u001b[0m, in \u001b[0;36m<cell line: 2>\u001b[1;34m()\u001b[0m\n\u001b[0;32m      1\u001b[0m \u001b[38;5;66;03m# checking the sum of the missing value. \u001b[39;00m\n\u001b[1;32m----> 2\u001b[0m \u001b[43mdf\u001b[49m\u001b[38;5;241m.\u001b[39misnull()\u001b[38;5;241m.\u001b[39msum()\n",
      "\u001b[1;31mNameError\u001b[0m: name 'df' is not defined"
     ]
    }
   ],
   "source": [
    "# checking the sum of the missing value. \n",
    "df.isnull().sum()"
   ]
  },
  {
   "cell_type": "code",
   "execution_count": 22,
   "id": "af154b25",
   "metadata": {},
   "outputs": [
    {
     "ename": "NameError",
     "evalue": "name 'df' is not defined",
     "output_type": "error",
     "traceback": [
      "\u001b[1;31m---------------------------------------------------------------------------\u001b[0m",
      "\u001b[1;31mNameError\u001b[0m                                 Traceback (most recent call last)",
      "Input \u001b[1;32mIn [22]\u001b[0m, in \u001b[0;36m<cell line: 1>\u001b[1;34m()\u001b[0m\n\u001b[1;32m----> 1\u001b[0m \u001b[43mdf\u001b[49m\u001b[38;5;241m.\u001b[39mdrop([\u001b[38;5;124m'\u001b[39m\u001b[38;5;124mcountry\u001b[39m\u001b[38;5;124m'\u001b[39m, \u001b[38;5;124m'\u001b[39m\u001b[38;5;124murl\u001b[39m\u001b[38;5;124m'\u001b[39m, \u001b[38;5;124m'\u001b[39m\u001b[38;5;124mcountry_long\u001b[39m\u001b[38;5;124m'\u001b[39m], axis\u001b[38;5;241m=\u001b[39m\u001b[38;5;241m1\u001b[39m, inplace\u001b[38;5;241m=\u001b[39m\u001b[38;5;28;01mTrue\u001b[39;00m)\n",
      "\u001b[1;31mNameError\u001b[0m: name 'df' is not defined"
     ]
    }
   ],
   "source": [
    "df.drop(['country', 'url', 'country_long'], axis=1, inplace=True)"
   ]
  },
  {
   "cell_type": "markdown",
   "id": "16ec28b5",
   "metadata": {},
   "source": [
    "- As we have already have source as the column name we have consedered to drop the urls.\n",
    "- In my opinion since IND is the only country in the feature: country, therefore i have dropped it"
   ]
  },
  {
   "cell_type": "code",
   "execution_count": 23,
   "id": "ad79f5d0",
   "metadata": {},
   "outputs": [
    {
     "ename": "NameError",
     "evalue": "name 'df' is not defined",
     "output_type": "error",
     "traceback": [
      "\u001b[1;31m---------------------------------------------------------------------------\u001b[0m",
      "\u001b[1;31mNameError\u001b[0m                                 Traceback (most recent call last)",
      "Input \u001b[1;32mIn [23]\u001b[0m, in \u001b[0;36m<cell line: 1>\u001b[1;34m()\u001b[0m\n\u001b[1;32m----> 1\u001b[0m sns\u001b[38;5;241m.\u001b[39mheatmap(\u001b[43mdf\u001b[49m\u001b[38;5;241m.\u001b[39misnull())\n",
      "\u001b[1;31mNameError\u001b[0m: name 'df' is not defined"
     ]
    }
   ],
   "source": [
    "\n",
    "sns.heatmap(df.isnull())"
   ]
  },
  {
   "cell_type": "code",
   "execution_count": 24,
   "id": "6a390916",
   "metadata": {},
   "outputs": [
    {
     "ename": "NameError",
     "evalue": "name 'df' is not defined",
     "output_type": "error",
     "traceback": [
      "\u001b[1;31m---------------------------------------------------------------------------\u001b[0m",
      "\u001b[1;31mNameError\u001b[0m                                 Traceback (most recent call last)",
      "Input \u001b[1;32mIn [24]\u001b[0m, in \u001b[0;36m<cell line: 1>\u001b[1;34m()\u001b[0m\n\u001b[1;32m----> 1\u001b[0m sns\u001b[38;5;241m.\u001b[39mpairplot(\u001b[43mdf\u001b[49m,hue\u001b[38;5;241m=\u001b[39m\u001b[38;5;124m\"\u001b[39m\u001b[38;5;124mprimary_fuel\u001b[39m\u001b[38;5;124m\"\u001b[39m,palette\u001b[38;5;241m=\u001b[39m\u001b[38;5;124m\"\u001b[39m\u001b[38;5;124mSet1\u001b[39m\u001b[38;5;124m\"\u001b[39m)\n",
      "\u001b[1;31mNameError\u001b[0m: name 'df' is not defined"
     ]
    }
   ],
   "source": [
    "sns.pairplot(df,hue=\"primary_fuel\",palette=\"Set1\")"
   ]
  },
  {
   "cell_type": "code",
   "execution_count": 25,
   "id": "0ced2e9c",
   "metadata": {},
   "outputs": [
    {
     "ename": "NameError",
     "evalue": "name 'df' is not defined",
     "output_type": "error",
     "traceback": [
      "\u001b[1;31m---------------------------------------------------------------------------\u001b[0m",
      "\u001b[1;31mNameError\u001b[0m                                 Traceback (most recent call last)",
      "Input \u001b[1;32mIn [25]\u001b[0m, in \u001b[0;36m<cell line: 2>\u001b[1;34m()\u001b[0m\n\u001b[0;32m      1\u001b[0m \u001b[38;5;66;03m# \u001b[39;00m\n\u001b[1;32m----> 2\u001b[0m \u001b[43mdf\u001b[49m\u001b[38;5;241m.\u001b[39mhead()\n",
      "\u001b[1;31mNameError\u001b[0m: name 'df' is not defined"
     ]
    }
   ],
   "source": [
    "# \n",
    "df.head()"
   ]
  },
  {
   "cell_type": "code",
   "execution_count": 26,
   "id": "f3dc285c",
   "metadata": {},
   "outputs": [
    {
     "ename": "NameError",
     "evalue": "name 'df' is not defined",
     "output_type": "error",
     "traceback": [
      "\u001b[1;31m---------------------------------------------------------------------------\u001b[0m",
      "\u001b[1;31mNameError\u001b[0m                                 Traceback (most recent call last)",
      "Input \u001b[1;32mIn [26]\u001b[0m, in \u001b[0;36m<cell line: 1>\u001b[1;34m()\u001b[0m\n\u001b[1;32m----> 1\u001b[0m \u001b[43mdf\u001b[49m\u001b[38;5;241m.\u001b[39mcolumns\u001b[38;5;241m.\u001b[39mtolist()\n",
      "\u001b[1;31mNameError\u001b[0m: name 'df' is not defined"
     ]
    }
   ],
   "source": [
    "df.columns.tolist()"
   ]
  },
  {
   "cell_type": "code",
   "execution_count": 27,
   "id": "2e41ec28",
   "metadata": {},
   "outputs": [
    {
     "ename": "NameError",
     "evalue": "name 'df' is not defined",
     "output_type": "error",
     "traceback": [
      "\u001b[1;31m---------------------------------------------------------------------------\u001b[0m",
      "\u001b[1;31mNameError\u001b[0m                                 Traceback (most recent call last)",
      "Input \u001b[1;32mIn [27]\u001b[0m, in \u001b[0;36m<cell line: 1>\u001b[1;34m()\u001b[0m\n\u001b[1;32m----> 1\u001b[0m \u001b[38;5;28;01mfor\u001b[39;00m col \u001b[38;5;129;01min\u001b[39;00m \u001b[43mdf\u001b[49m\u001b[38;5;241m.\u001b[39mcolumns:\n\u001b[0;32m      2\u001b[0m     \u001b[38;5;28mprint\u001b[39m(\u001b[38;5;124mf\u001b[39m\u001b[38;5;124m\"\u001b[39m\u001b[38;5;124mColumn: \u001b[39m\u001b[38;5;132;01m{\u001b[39;00mcol\u001b[38;5;132;01m}\u001b[39;00m\u001b[38;5;124m\"\u001b[39m)\n\u001b[0;32m      3\u001b[0m     \u001b[38;5;28mprint\u001b[39m(df[col]\u001b[38;5;241m.\u001b[39mvalue_counts())\n",
      "\u001b[1;31mNameError\u001b[0m: name 'df' is not defined"
     ]
    }
   ],
   "source": [
    "for col in df.columns:\n",
    "    print(f\"Column: {col}\")\n",
    "    print(df[col].value_counts())\n",
    "    print(\"\\n\")"
   ]
  },
  {
   "cell_type": "code",
   "execution_count": 38,
   "id": "6f899423",
   "metadata": {
    "scrolled": true
   },
   "outputs": [
    {
     "data": {
      "text/html": [
       "<div>\n",
       "<style scoped>\n",
       "    .dataframe tbody tr th:only-of-type {\n",
       "        vertical-align: middle;\n",
       "    }\n",
       "\n",
       "    .dataframe tbody tr th {\n",
       "        vertical-align: top;\n",
       "    }\n",
       "\n",
       "    .dataframe thead th {\n",
       "        text-align: right;\n",
       "    }\n",
       "</style>\n",
       "<table border=\"1\" class=\"dataframe\">\n",
       "  <thead>\n",
       "    <tr style=\"text-align: right;\">\n",
       "      <th></th>\n",
       "      <th>No. of unique value</th>\n",
       "    </tr>\n",
       "  </thead>\n",
       "  <tbody>\n",
       "    <tr>\n",
       "      <th>name</th>\n",
       "      <td>907</td>\n",
       "    </tr>\n",
       "    <tr>\n",
       "      <th>gppd_idnr</th>\n",
       "      <td>907</td>\n",
       "    </tr>\n",
       "    <tr>\n",
       "      <th>capacity_mw</th>\n",
       "      <td>361</td>\n",
       "    </tr>\n",
       "    <tr>\n",
       "      <th>latitude</th>\n",
       "      <td>837</td>\n",
       "    </tr>\n",
       "    <tr>\n",
       "      <th>longitude</th>\n",
       "      <td>828</td>\n",
       "    </tr>\n",
       "    <tr>\n",
       "      <th>primary_fuel</th>\n",
       "      <td>8</td>\n",
       "    </tr>\n",
       "    <tr>\n",
       "      <th>source</th>\n",
       "      <td>191</td>\n",
       "    </tr>\n",
       "    <tr>\n",
       "      <th>geolocation_source</th>\n",
       "      <td>3</td>\n",
       "    </tr>\n",
       "  </tbody>\n",
       "</table>\n",
       "</div>"
      ],
      "text/plain": [
       "                    No. of unique value\n",
       "name                                907\n",
       "gppd_idnr                           907\n",
       "capacity_mw                         361\n",
       "latitude                            837\n",
       "longitude                           828\n",
       "primary_fuel                          8\n",
       "source                              191\n",
       "geolocation_source                    3"
      ]
     },
     "execution_count": 38,
     "metadata": {},
     "output_type": "execute_result"
    }
   ],
   "source": [
    "# to check the no. of unique values present in the data. \n",
    "df.nunique().to_frame(\"No. of unique value\")"
   ]
  },
  {
   "cell_type": "code",
   "execution_count": 39,
   "id": "9fa7b62c",
   "metadata": {},
   "outputs": [],
   "source": [
    "from sklearn.preprocessing import LabelEncoder\n",
    "\n",
    "le = LabelEncoder()\n",
    "\n",
    "Encode_feature = ['primary_fuel', 'geolocation_source', 'name', 'gppd_idnr', 'primary_fuel', 'source']\n",
    "\n",
    "for col in Encode_feature:\n",
    "    df[col] = le.fit_transform(df[col])"
   ]
  },
  {
   "cell_type": "code",
   "execution_count": 40,
   "id": "e151ec8e",
   "metadata": {},
   "outputs": [
    {
     "data": {
      "text/plain": [
       "name                  0.000000\n",
       "gppd_idnr             0.000000\n",
       "capacity_mw           3.123576\n",
       "latitude             -0.149698\n",
       "longitude             1.141881\n",
       "primary_fuel          0.472251\n",
       "source                1.827373\n",
       "geolocation_source   -2.159841\n",
       "dtype: float64"
      ]
     },
     "execution_count": 40,
     "metadata": {},
     "output_type": "execute_result"
    }
   ],
   "source": [
    "# checking the skewness of the dataframe. \n",
    "df.skew()"
   ]
  },
  {
   "cell_type": "code",
   "execution_count": 41,
   "id": "eed6e8ba",
   "metadata": {},
   "outputs": [],
   "source": [
    "#removing the skewness using the boxcox method \n",
    "skew_columns = ['capacity_mw','longitude','source','geolocation_source']\n",
    "\n",
    "for col in skew_columns:\n",
    "    df[col], param = boxcox(df[col] + 1)  # adding 1 to make all data positive\n"
   ]
  },
  {
   "cell_type": "code",
   "execution_count": 42,
   "id": "c73da248",
   "metadata": {},
   "outputs": [
    {
     "data": {
      "text/plain": [
       "name                  0.000000\n",
       "gppd_idnr             0.000000\n",
       "capacity_mw           0.022164\n",
       "latitude             -0.149698\n",
       "longitude             0.000000\n",
       "primary_fuel          0.472251\n",
       "source               -0.214066\n",
       "geolocation_source   -2.132728\n",
       "dtype: float64"
      ]
     },
     "execution_count": 42,
     "metadata": {},
     "output_type": "execute_result"
    }
   ],
   "source": [
    "df.skew()"
   ]
  },
  {
   "cell_type": "markdown",
   "id": "15292cc9",
   "metadata": {},
   "source": [
    "The skewness has nearly been takeb care of "
   ]
  },
  {
   "cell_type": "code",
   "execution_count": 43,
   "id": "4ddfbb30",
   "metadata": {},
   "outputs": [
    {
     "data": {
      "image/png": "[encoded data removed]",
      "text/plain": [
       "<Figure size 720x432 with 1 Axes>"
      ]
     },
     "metadata": {
      "needs_background": "light"
     },
     "output_type": "display_data"
    },
    {
     "data": {
      "image/png": "[encoded data removed]",
      "text/plain": [
       "<Figure size 720x432 with 1 Axes>"
      ]
     },
     "metadata": {
      "needs_background": "light"
     },
     "output_type": "display_data"
    },
    {
     "data": {
      "image/png": "[encoded data removed]",
      "text/plain": [
       "<Figure size 720x432 with 1 Axes>"
      ]
     },
     "metadata": {
      "needs_background": "light"
     },
     "output_type": "display_data"
    },
    {
     "data": {
      "image/png": "[encoded data removed]",
      "text/plain": [
       "<Figure size 720x432 with 1 Axes>"
      ]
     },
     "metadata": {
      "needs_background": "light"
     },
     "output_type": "display_data"
    },
    {
     "data": {
      "image/png": "[encoded data removed]",
      "text/plain": [
       "<Figure size 720x432 with 1 Axes>"
      ]
     },
     "metadata": {
      "needs_background": "light"
     },
     "output_type": "display_data"
    },
    {
     "data": {
      "image/png": "[encoded data removed]",
      "text/plain": [
       "<Figure size 720x432 with 1 Axes>"
      ]
     },
     "metadata": {
      "needs_background": "light"
     },
     "output_type": "display_data"
    }
   ],
   "source": [
    "#checking the skewnss via the graphical representation\n",
    "for skew_columns in df.columns:\n",
    "    if df[skew_columns].dtype in ['int64', 'float64']: # checking if the column is numeric\n",
    "        plt.figure(figsize=(10, 6))\n",
    "        sns.distplot(df[skew_columns])\n",
    "        plt.title('Distribution for {}'.format(skew_columns))\n",
    "        plt.show()"
   ]
  },
  {
   "cell_type": "code",
   "execution_count": 44,
   "id": "e679841b",
   "metadata": {},
   "outputs": [],
   "source": [
    "#divinding the data into the labels and the features. \n",
    "X = df.drop(columns=['primary_fuel']) \n",
    "Y = df['primary_fuel']"
   ]
  },
  {
   "cell_type": "markdown",
   "id": "686afc51",
   "metadata": {},
   "source": [
    "- As we have already have source as the column name we have consedered to drop the urls. \n",
    "- In my opinion since IND is the only country in the feature: country, therefore i have dropped it "
   ]
  },
  {
   "cell_type": "code",
   "execution_count": 45,
   "id": "ed47cc80",
   "metadata": {},
   "outputs": [
    {
     "data": {
      "text/html": [
       "<div>\n",
       "<style scoped>\n",
       "    .dataframe tbody tr th:only-of-type {\n",
       "        vertical-align: middle;\n",
       "    }\n",
       "\n",
       "    .dataframe tbody tr th {\n",
       "        vertical-align: top;\n",
       "    }\n",
       "\n",
       "    .dataframe thead th {\n",
       "        text-align: right;\n",
       "    }\n",
       "</style>\n",
       "<table border=\"1\" class=\"dataframe\">\n",
       "  <thead>\n",
       "    <tr style=\"text-align: right;\">\n",
       "      <th></th>\n",
       "      <th>name</th>\n",
       "      <th>gppd_idnr</th>\n",
       "      <th>capacity_mw</th>\n",
       "      <th>latitude</th>\n",
       "      <th>longitude</th>\n",
       "      <th>primary_fuel</th>\n",
       "      <th>source</th>\n",
       "      <th>geolocation_source</th>\n",
       "    </tr>\n",
       "  </thead>\n",
       "  <tbody>\n",
       "    <tr>\n",
       "      <th>name</th>\n",
       "      <td>1.000000</td>\n",
       "      <td>0.332205</td>\n",
       "      <td>0.013507</td>\n",
       "      <td>-0.135247</td>\n",
       "      <td>0.031000</td>\n",
       "      <td>0.040753</td>\n",
       "      <td>-0.030432</td>\n",
       "      <td>0.042171</td>\n",
       "    </tr>\n",
       "    <tr>\n",
       "      <th>gppd_idnr</th>\n",
       "      <td>0.332205</td>\n",
       "      <td>1.000000</td>\n",
       "      <td>-0.565769</td>\n",
       "      <td>-0.105728</td>\n",
       "      <td>-0.402727</td>\n",
       "      <td>0.609180</td>\n",
       "      <td>0.333034</td>\n",
       "      <td>-0.464105</td>\n",
       "    </tr>\n",
       "    <tr>\n",
       "      <th>capacity_mw</th>\n",
       "      <td>0.013507</td>\n",
       "      <td>-0.565769</td>\n",
       "      <td>1.000000</td>\n",
       "      <td>0.061565</td>\n",
       "      <td>0.319294</td>\n",
       "      <td>-0.536268</td>\n",
       "      <td>-0.325920</td>\n",
       "      <td>0.467576</td>\n",
       "    </tr>\n",
       "    <tr>\n",
       "      <th>latitude</th>\n",
       "      <td>-0.135247</td>\n",
       "      <td>-0.105728</td>\n",
       "      <td>0.061565</td>\n",
       "      <td>1.000000</td>\n",
       "      <td>-0.032290</td>\n",
       "      <td>-0.010204</td>\n",
       "      <td>0.045715</td>\n",
       "      <td>-0.188409</td>\n",
       "    </tr>\n",
       "    <tr>\n",
       "      <th>longitude</th>\n",
       "      <td>0.031000</td>\n",
       "      <td>-0.402727</td>\n",
       "      <td>0.319294</td>\n",
       "      <td>-0.032290</td>\n",
       "      <td>1.000000</td>\n",
       "      <td>-0.393324</td>\n",
       "      <td>-0.202930</td>\n",
       "      <td>0.301366</td>\n",
       "    </tr>\n",
       "    <tr>\n",
       "      <th>primary_fuel</th>\n",
       "      <td>0.040753</td>\n",
       "      <td>0.609180</td>\n",
       "      <td>-0.536268</td>\n",
       "      <td>-0.010204</td>\n",
       "      <td>-0.393324</td>\n",
       "      <td>1.000000</td>\n",
       "      <td>0.018340</td>\n",
       "      <td>-0.485448</td>\n",
       "    </tr>\n",
       "    <tr>\n",
       "      <th>source</th>\n",
       "      <td>-0.030432</td>\n",
       "      <td>0.333034</td>\n",
       "      <td>-0.325920</td>\n",
       "      <td>0.045715</td>\n",
       "      <td>-0.202930</td>\n",
       "      <td>0.018340</td>\n",
       "      <td>1.000000</td>\n",
       "      <td>-0.399994</td>\n",
       "    </tr>\n",
       "    <tr>\n",
       "      <th>geolocation_source</th>\n",
       "      <td>0.042171</td>\n",
       "      <td>-0.464105</td>\n",
       "      <td>0.467576</td>\n",
       "      <td>-0.188409</td>\n",
       "      <td>0.301366</td>\n",
       "      <td>-0.485448</td>\n",
       "      <td>-0.399994</td>\n",
       "      <td>1.000000</td>\n",
       "    </tr>\n",
       "  </tbody>\n",
       "</table>\n",
       "</div>"
      ],
      "text/plain": [
       "                        name  gppd_idnr  capacity_mw  latitude  longitude  \\\n",
       "name                1.000000   0.332205     0.013507 -0.135247   0.031000   \n",
       "gppd_idnr           0.332205   1.000000    -0.565769 -0.105728  -0.402727   \n",
       "capacity_mw         0.013507  -0.565769     1.000000  0.061565   0.319294   \n",
       "latitude           -0.135247  -0.105728     0.061565  1.000000  -0.032290   \n",
       "longitude           0.031000  -0.402727     0.319294 -0.032290   1.000000   \n",
       "primary_fuel        0.040753   0.609180    -0.536268 -0.010204  -0.393324   \n",
       "source             -0.030432   0.333034    -0.325920  0.045715  -0.202930   \n",
       "geolocation_source  0.042171  -0.464105     0.467576 -0.188409   0.301366   \n",
       "\n",
       "                    primary_fuel    source  geolocation_source  \n",
       "name                    0.040753 -0.030432            0.042171  \n",
       "gppd_idnr               0.609180  0.333034           -0.464105  \n",
       "capacity_mw            -0.536268 -0.325920            0.467576  \n",
       "latitude               -0.010204  0.045715           -0.188409  \n",
       "longitude              -0.393324 -0.202930            0.301366  \n",
       "primary_fuel            1.000000  0.018340           -0.485448  \n",
       "source                  0.018340  1.000000           -0.399994  \n",
       "geolocation_source     -0.485448 -0.399994            1.000000  "
      ]
     },
     "execution_count": 45,
     "metadata": {},
     "output_type": "execute_result"
    }
   ],
   "source": [
    "# checking the correlation within the features. \n",
    "df.corr()"
   ]
  },
  {
   "cell_type": "code",
   "execution_count": 46,
   "id": "d68df051",
   "metadata": {},
   "outputs": [
    {
     "data": {
      "image/png": "[encoded data removed]",
      "text/plain": [
       "<Figure size 1080x720 with 2 Axes>"
      ]
     },
     "metadata": {
      "needs_background": "light"
     },
     "output_type": "display_data"
    }
   ],
   "source": [
    "# Plotting the correlation on the graph. \n",
    "plt.figure(figsize=(15,10))\n",
    "sns.heatmap(df.corr(), annot=True, linecolor=\"black\", cmap=\"coolwarm\", fmt=\"0.1f\")\n",
    "plt.title(\"Descriptive graph\")\n",
    "plt.xlabel('figure',fontsize=14)\n",
    "plt.ylabel('feature_label',fontsize=14)\n",
    "plt.show()"
   ]
  },
  {
   "cell_type": "code",
   "execution_count": 47,
   "id": "c84a50a7",
   "metadata": {},
   "outputs": [
    {
     "data": {
      "image/png": "[encoded data removed]",
      "text/plain": [
       "<Figure size 1584x504 with 1 Axes>"
      ]
     },
     "metadata": {
      "needs_background": "light"
     },
     "output_type": "display_data"
    }
   ],
   "source": [
    "#Visualizing the correlation between label and feature using bar plot.\n",
    "plt.figure(figsize=(22,7))\n",
    "df.corr()['primary_fuel'].sort_values(ascending=False).drop(['primary_fuel']).plot(kind='bar',color=\"m\")\n",
    "plt.xlabel('Feature',fontsize=15)\n",
    "plt.ylabel ('Target', fontsize=15)\n",
    "plt.title(\"correlation between label & features using barplot,fontsize=20\")\n",
    "plt.show()"
   ]
  },
  {
   "cell_type": "code",
   "execution_count": 48,
   "id": "84e28fce",
   "metadata": {},
   "outputs": [
    {
     "data": {
      "image/png": "[encoded data removed]",
      "text/plain": [
       "<Figure size 1080x5760 with 8 Axes>"
      ]
     },
     "metadata": {},
     "output_type": "display_data"
    }
   ],
   "source": [
    "# Create box plots for each numerical feature\n",
    "plt.figure(figsize=(15, 80), facecolor='white')\n",
    "plotnumber = 1\n",
    "\n",
    "for feature in df.select_dtypes(include=[np.number]).columns:\n",
    "    ax = plt.subplot(12, 3, plotnumber)\n",
    "    sns.boxplot(data=df, y=feature)\n",
    "    plt.ylabel(feature)\n",
    "    plt.title(f\"{feature}\")\n",
    "    plotnumber += 1\n",
    "\n",
    "plt.tight_layout()\n",
    "plt.show()"
   ]
  },
  {
   "cell_type": "code",
   "execution_count": 49,
   "id": "c8121b9b",
   "metadata": {},
   "outputs": [
    {
     "name": "stdout",
     "output_type": "stream",
     "text": [
      "     geolocation_source  longitude    source\n",
      "0              2.345400   0.952547  1.582861\n",
      "1              0.396062   0.544956  2.036658\n",
      "2              0.396062   2.380012  0.471879\n",
      "3              0.396062   2.174322  0.403248\n",
      "4              0.396062   1.117232  0.403248\n",
      "..                  ...        ...       ...\n",
      "902            0.396062   0.153627  0.403248\n",
      "903            2.530510   0.332906  1.211010\n",
      "904            0.396062   0.280789  0.471879\n",
      "905            0.396062   0.796367  0.904767\n",
      "906            0.396062   0.180926  0.471879\n",
      "\n",
      "[907 rows x 3 columns]\n"
     ]
    }
   ],
   "source": [
    "from scipy.stats import zscore\n",
    "feature_outlier = ['geolocation_source', 'longitude', 'source']\n",
    "z = np.abs(df[feature_outlier].apply(zscore))\n",
    "print(z)\n"
   ]
  },
  {
   "cell_type": "code",
   "execution_count": 50,
   "id": "0715d75f",
   "metadata": {},
   "outputs": [],
   "source": [
    "# Defining a threshold limit\n",
    "threshold = 3"
   ]
  },
  {
   "cell_type": "code",
   "execution_count": 51,
   "id": "f8656af3",
   "metadata": {},
   "outputs": [],
   "source": [
    "# Removing outliers\n",
    "df_new = df[(z < threshold).all(axis=1)]"
   ]
  },
  {
   "cell_type": "code",
   "execution_count": 52,
   "id": "7f367334",
   "metadata": {},
   "outputs": [
    {
     "name": "stdout",
     "output_type": "stream",
     "text": [
      "Old dataframe shape: (907, 8)\n",
      "New dataframe shape: (898, 8)\n"
     ]
    }
   ],
   "source": [
    "# Printing shapes to check data loss\n",
    "print(\"Old dataframe shape:\", df.shape)\n",
    "print(\"New dataframe shape:\", df_new.shape)"
   ]
  },
  {
   "cell_type": "code",
   "execution_count": 53,
   "id": "b7a09ace",
   "metadata": {},
   "outputs": [
    {
     "name": "stdout",
     "output_type": "stream",
     "text": [
      "Data Loss Percentage = 1.0022271714922049\n"
     ]
    }
   ],
   "source": [
    "data_loss = ((df.shape[0] - df_new.shape[0]) / df_new.shape[0]) * 100\n",
    "print(\"Data Loss Percentage =\", data_loss)"
   ]
  },
  {
   "cell_type": "code",
   "execution_count": 54,
   "id": "44ca9135",
   "metadata": {},
   "outputs": [],
   "source": [
    "# We shall proceed with the new data frame. "
   ]
  },
  {
   "cell_type": "code",
   "execution_count": 55,
   "id": "4eeb6015",
   "metadata": {},
   "outputs": [],
   "source": [
    "X1 = df_new.drop(columns=['primary_fuel'])\n",
    "Y1 = df_new['primary_fuel']"
   ]
  },
  {
   "cell_type": "code",
   "execution_count": 56,
   "id": "4fe74129",
   "metadata": {},
   "outputs": [
    {
     "data": {
      "text/html": [
       "<div>\n",
       "<style scoped>\n",
       "    .dataframe tbody tr th:only-of-type {\n",
       "        vertical-align: middle;\n",
       "    }\n",
       "\n",
       "    .dataframe tbody tr th {\n",
       "        vertical-align: top;\n",
       "    }\n",
       "\n",
       "    .dataframe thead th {\n",
       "        text-align: right;\n",
       "    }\n",
       "</style>\n",
       "<table border=\"1\" class=\"dataframe\">\n",
       "  <thead>\n",
       "    <tr style=\"text-align: right;\">\n",
       "      <th></th>\n",
       "      <th>name</th>\n",
       "      <th>gppd_idnr</th>\n",
       "      <th>capacity_mw</th>\n",
       "      <th>latitude</th>\n",
       "      <th>longitude</th>\n",
       "      <th>source</th>\n",
       "      <th>geolocation_source</th>\n",
       "    </tr>\n",
       "  </thead>\n",
       "  <tbody>\n",
       "    <tr>\n",
       "      <th>0</th>\n",
       "      <td>0</td>\n",
       "      <td>657</td>\n",
       "      <td>1.223336</td>\n",
       "      <td>28.1839</td>\n",
       "      <td>0.203825</td>\n",
       "      <td>2.756354</td>\n",
       "      <td>16.128645</td>\n",
       "    </tr>\n",
       "    <tr>\n",
       "      <th>1</th>\n",
       "      <td>1</td>\n",
       "      <td>519</td>\n",
       "      <td>4.215362</td>\n",
       "      <td>24.7663</td>\n",
       "      <td>0.203825</td>\n",
       "      <td>2.890635</td>\n",
       "      <td>254.992372</td>\n",
       "    </tr>\n",
       "    <tr>\n",
       "      <th>2</th>\n",
       "      <td>2</td>\n",
       "      <td>853</td>\n",
       "      <td>3.445715</td>\n",
       "      <td>21.9038</td>\n",
       "      <td>0.203825</td>\n",
       "      <td>2.148343</td>\n",
       "      <td>254.992372</td>\n",
       "    </tr>\n",
       "    <tr>\n",
       "      <th>3</th>\n",
       "      <td>3</td>\n",
       "      <td>0</td>\n",
       "      <td>4.480294</td>\n",
       "      <td>23.8712</td>\n",
       "      <td>0.203825</td>\n",
       "      <td>2.168651</td>\n",
       "      <td>254.992372</td>\n",
       "    </tr>\n",
       "    <tr>\n",
       "      <th>4</th>\n",
       "      <td>4</td>\n",
       "      <td>1</td>\n",
       "      <td>6.520685</td>\n",
       "      <td>21.9603</td>\n",
       "      <td>0.203825</td>\n",
       "      <td>2.168651</td>\n",
       "      <td>254.992372</td>\n",
       "    </tr>\n",
       "    <tr>\n",
       "      <th>...</th>\n",
       "      <td>...</td>\n",
       "      <td>...</td>\n",
       "      <td>...</td>\n",
       "      <td>...</td>\n",
       "      <td>...</td>\n",
       "      <td>...</td>\n",
       "      <td>...</td>\n",
       "    </tr>\n",
       "    <tr>\n",
       "      <th>902</th>\n",
       "      <td>902</td>\n",
       "      <td>491</td>\n",
       "      <td>6.432017</td>\n",
       "      <td>16.2949</td>\n",
       "      <td>0.203825</td>\n",
       "      <td>2.168651</td>\n",
       "      <td>254.992372</td>\n",
       "    </tr>\n",
       "    <tr>\n",
       "      <th>903</th>\n",
       "      <td>903</td>\n",
       "      <td>822</td>\n",
       "      <td>1.350320</td>\n",
       "      <td>12.8932</td>\n",
       "      <td>0.203825</td>\n",
       "      <td>2.646321</td>\n",
       "      <td>0.000000</td>\n",
       "    </tr>\n",
       "    <tr>\n",
       "      <th>904</th>\n",
       "      <td>904</td>\n",
       "      <td>891</td>\n",
       "      <td>3.080811</td>\n",
       "      <td>15.2758</td>\n",
       "      <td>0.203825</td>\n",
       "      <td>2.148343</td>\n",
       "      <td>254.992372</td>\n",
       "    </tr>\n",
       "    <tr>\n",
       "      <th>905</th>\n",
       "      <td>905</td>\n",
       "      <td>539</td>\n",
       "      <td>4.046274</td>\n",
       "      <td>24.3500</td>\n",
       "      <td>0.203825</td>\n",
       "      <td>2.555702</td>\n",
       "      <td>254.992372</td>\n",
       "    </tr>\n",
       "    <tr>\n",
       "      <th>906</th>\n",
       "      <td>906</td>\n",
       "      <td>876</td>\n",
       "      <td>2.711662</td>\n",
       "      <td>9.9344</td>\n",
       "      <td>0.203825</td>\n",
       "      <td>2.148343</td>\n",
       "      <td>254.992372</td>\n",
       "    </tr>\n",
       "  </tbody>\n",
       "</table>\n",
       "<p>898 rows × 7 columns</p>\n",
       "</div>"
      ],
      "text/plain": [
       "     name  gppd_idnr  capacity_mw  latitude  longitude    source  \\\n",
       "0       0        657     1.223336   28.1839   0.203825  2.756354   \n",
       "1       1        519     4.215362   24.7663   0.203825  2.890635   \n",
       "2       2        853     3.445715   21.9038   0.203825  2.148343   \n",
       "3       3          0     4.480294   23.8712   0.203825  2.168651   \n",
       "4       4          1     6.520685   21.9603   0.203825  2.168651   \n",
       "..    ...        ...          ...       ...        ...       ...   \n",
       "902   902        491     6.432017   16.2949   0.203825  2.168651   \n",
       "903   903        822     1.350320   12.8932   0.203825  2.646321   \n",
       "904   904        891     3.080811   15.2758   0.203825  2.148343   \n",
       "905   905        539     4.046274   24.3500   0.203825  2.555702   \n",
       "906   906        876     2.711662    9.9344   0.203825  2.148343   \n",
       "\n",
       "     geolocation_source  \n",
       "0             16.128645  \n",
       "1            254.992372  \n",
       "2            254.992372  \n",
       "3            254.992372  \n",
       "4            254.992372  \n",
       "..                  ...  \n",
       "902          254.992372  \n",
       "903            0.000000  \n",
       "904          254.992372  \n",
       "905          254.992372  \n",
       "906          254.992372  \n",
       "\n",
       "[898 rows x 7 columns]"
      ]
     },
     "execution_count": 56,
     "metadata": {},
     "output_type": "execute_result"
    }
   ],
   "source": [
    "#To check if the feature matrix are stored in the X & the response (target) in vector y. \n",
    "X1"
   ]
  },
  {
   "cell_type": "code",
   "execution_count": 57,
   "id": "1bb6f5c3",
   "metadata": {},
   "outputs": [
    {
     "data": {
      "text/plain": [
       "0      6\n",
       "1      1\n",
       "2      7\n",
       "3      2\n",
       "4      1\n",
       "      ..\n",
       "902    1\n",
       "903    6\n",
       "904    7\n",
       "905    1\n",
       "906    7\n",
       "Name: primary_fuel, Length: 898, dtype: int64"
      ]
     },
     "execution_count": 57,
     "metadata": {},
     "output_type": "execute_result"
    }
   ],
   "source": [
    "Y1"
   ]
  },
  {
   "cell_type": "code",
   "execution_count": 58,
   "id": "8cb292fd",
   "metadata": {},
   "outputs": [
    {
     "name": "stdout",
     "output_type": "stream",
     "text": [
      "const                 0.000000\n",
      "name                  1.336135\n",
      "gppd_idnr             2.991887\n",
      "capacity_mw           1.860863\n",
      "latitude              1.110074\n",
      "longitude             1.297672\n",
      "primary_fuel          2.711987\n",
      "source                2.153734\n",
      "geolocation_source    2.089507\n",
      "dtype: float64\n"
     ]
    }
   ],
   "source": [
    "from statsmodels.stats.outliers_influence import variance_inflation_factor\n",
    "from statsmodels.tools.tools import add_constant\n",
    "\n",
    "# Add a constant column for the intercept term\n",
    "df_new_with_constant = add_constant(df_new)\n",
    "\n",
    "# Calculate VIF for each column\n",
    "vif_data = pd.Series([variance_inflation_factor(df_new_with_constant.values, i)\n",
    "               for i in range(df_new_with_constant.shape[1])], \n",
    "              index=df_new_with_constant.columns)\n",
    "\n",
    "print(vif_data)"
   ]
  },
  {
   "cell_type": "code",
   "execution_count": 61,
   "id": "9c809110",
   "metadata": {},
   "outputs": [],
   "source": [
    "from sklearn.preprocessing import StandardScaler\n",
    "\n",
    "scaler = StandardScaler()\n",
    "X1_train_scaled = scaler.fit_transform(X1_train)\n",
    "X1_test_scaled = scaler.transform(X1_test)"
   ]
  },
  {
   "cell_type": "code",
   "execution_count": 62,
   "id": "c24d5474",
   "metadata": {},
   "outputs": [],
   "source": [
    "# Split the data\n",
    "from sklearn.model_selection import train_test_split\n",
    "X1_train, X1_test, Y1_train, Y1_test = train_test_split(X1, Y1, test_size=0.2, random_state=42)"
   ]
  },
  {
   "cell_type": "code",
   "execution_count": 63,
   "id": "6a55af09",
   "metadata": {},
   "outputs": [],
   "source": [
    "def metric_score(clf, X1_train, X1_test, Y1_train, Y1_test, train):\n",
    "    if train == True: \n",
    "        pred = clf.predict(X1_train)\n",
    "        print(\"\\n======================Train Result==========================\")\n",
    "        print(f\"Accuracy Score : {accuracy_score(Y1_train, pred) * 100:.2f}%\")\n",
    "    elif train == False: \n",
    "        pred = clf.predict(X1_test)\n",
    "        print(\"\\n======================Test Result==========================\")\n",
    "        print(f\"Accuracy Score : {accuracy_score(Y1_test, pred) * 100:.2f}%\")\n",
    "        print('\\n \\n Test Classification Report \\n', classification_report(Y1_test, pred, digits=2))"
   ]
  },
  {
   "cell_type": "code",
   "execution_count": 64,
   "id": "2f459592",
   "metadata": {},
   "outputs": [
    {
     "data": {
      "text/plain": [
       "RandomForestClassifier()"
      ]
     },
     "execution_count": 64,
     "metadata": {},
     "output_type": "execute_result"
    }
   ],
   "source": [
    "from sklearn.ensemble import RandomForestClassifier\n",
    "rf = RandomForestClassifier()\n",
    "\n",
    "# training the model \n",
    "rf.fit(X1_train, Y1_train)"
   ]
  },
  {
   "cell_type": "code",
   "execution_count": 65,
   "id": "c52920da",
   "metadata": {},
   "outputs": [
    {
     "name": "stdout",
     "output_type": "stream",
     "text": [
      "\n",
      "======================Train Result==========================\n",
      "Accuracy Score : 100.00%\n",
      "\n",
      "======================Test Result==========================\n",
      "Accuracy Score : 80.00%\n",
      "\n",
      " \n",
      " Test Classification Report \n",
      "               precision    recall  f1-score   support\n",
      "\n",
      "           0       0.89      0.80      0.84        10\n",
      "           1       0.74      0.91      0.82        54\n",
      "           2       0.00      0.00      0.00        14\n",
      "           3       0.79      0.89      0.83        54\n",
      "           4       0.00      0.00      0.00         2\n",
      "           5       0.00      0.00      0.00         6\n",
      "           6       1.00      0.95      0.98        22\n",
      "           7       1.00      1.00      1.00        18\n",
      "\n",
      "    accuracy                           0.80       180\n",
      "   macro avg       0.55      0.57      0.56       180\n",
      "weighted avg       0.73      0.80      0.76       180\n",
      "\n"
     ]
    }
   ],
   "source": [
    "metric_score(rf, X1_train, X1_test, Y1_train, Y1_test, train= True)\n",
    "metric_score(rf, X1_train, X1_test, Y1_train, Y1_test, train= False)"
   ]
  },
  {
   "cell_type": "code",
   "execution_count": 66,
   "id": "695ce58f",
   "metadata": {},
   "outputs": [
    {
     "data": {
      "text/plain": [
       "GradientBoostingClassifier()"
      ]
     },
     "execution_count": 66,
     "metadata": {},
     "output_type": "execute_result"
    }
   ],
   "source": [
    "from sklearn.ensemble import GradientBoostingClassifier\n",
    "# Gradient Boosting\n",
    "gb = GradientBoostingClassifier()\n",
    "\n",
    "# training the model\n",
    "gb.fit(X1_train, Y1_train)"
   ]
  },
  {
   "cell_type": "code",
   "execution_count": 67,
   "id": "2d6b02d9",
   "metadata": {},
   "outputs": [
    {
     "name": "stdout",
     "output_type": "stream",
     "text": [
      "\n",
      "======================Train Result==========================\n",
      "Accuracy Score : 99.44%\n",
      "\n",
      "======================Test Result==========================\n",
      "Accuracy Score : 80.00%\n",
      "\n",
      " \n",
      " Test Classification Report \n",
      "               precision    recall  f1-score   support\n",
      "\n",
      "           0       0.78      0.70      0.74        10\n",
      "           1       0.74      0.93      0.82        54\n",
      "           2       0.60      0.21      0.32        14\n",
      "           3       0.80      0.83      0.82        54\n",
      "           4       0.00      0.00      0.00         2\n",
      "           5       0.00      0.00      0.00         6\n",
      "           6       1.00      0.95      0.98        22\n",
      "           7       1.00      1.00      1.00        18\n",
      "\n",
      "    accuracy                           0.80       180\n",
      "   macro avg       0.61      0.58      0.58       180\n",
      "weighted avg       0.77      0.80      0.78       180\n",
      "\n"
     ]
    }
   ],
   "source": [
    "metric_score(gb, X1_train, X1_test, Y1_train, Y1_test, train= True)\n",
    "metric_score(gb, X1_train, X1_test, Y1_train, Y1_test, train= False)"
   ]
  },
  {
   "cell_type": "code",
   "execution_count": 68,
   "id": "89dea5f6",
   "metadata": {},
   "outputs": [
    {
     "data": {
      "text/plain": [
       "DecisionTreeClassifier()"
      ]
     },
     "execution_count": 68,
     "metadata": {},
     "output_type": "execute_result"
    }
   ],
   "source": [
    "from sklearn.tree import DecisionTreeClassifier \n",
    "dt = DecisionTreeClassifier()\n",
    "\n",
    "# training the model\n",
    "dt.fit(X1_train, Y1_train)"
   ]
  },
  {
   "cell_type": "code",
   "execution_count": 69,
   "id": "3be871fa",
   "metadata": {},
   "outputs": [
    {
     "name": "stdout",
     "output_type": "stream",
     "text": [
      "\n",
      "======================Train Result==========================\n",
      "Accuracy Score : 100.00%\n",
      "\n",
      "======================Test Result==========================\n",
      "Accuracy Score : 73.33%\n",
      "\n",
      " \n",
      " Test Classification Report \n",
      "               precision    recall  f1-score   support\n",
      "\n",
      "           0       0.90      0.90      0.90        10\n",
      "           1       0.70      0.65      0.67        54\n",
      "           2       0.06      0.07      0.07        14\n",
      "           3       0.78      0.83      0.80        54\n",
      "           4       0.00      0.00      0.00         2\n",
      "           5       0.75      0.50      0.60         6\n",
      "           6       1.00      0.95      0.98        22\n",
      "           7       1.00      1.00      1.00        18\n",
      "\n",
      "    accuracy                           0.73       180\n",
      "   macro avg       0.65      0.61      0.63       180\n",
      "weighted avg       0.74      0.73      0.74       180\n",
      "\n"
     ]
    }
   ],
   "source": [
    "metric_score(dt, X1_train, X1_test, Y1_train, Y1_test, train= True)\n",
    "metric_score(dt, X1_train, X1_test, Y1_train, Y1_test, train= False)"
   ]
  },
  {
   "cell_type": "code",
   "execution_count": 70,
   "id": "edd87fe5",
   "metadata": {},
   "outputs": [
    {
     "data": {
      "text/plain": [
       "LogisticRegression()"
      ]
     },
     "execution_count": 70,
     "metadata": {},
     "output_type": "execute_result"
    }
   ],
   "source": [
    "from sklearn.linear_model import LogisticRegression\n",
    "lr = LogisticRegression()\n",
    "\n",
    "# training the model \n",
    "lr.fit(X1_train, Y1_train)"
   ]
  },
  {
   "cell_type": "code",
   "execution_count": 71,
   "id": "b8e25eb6",
   "metadata": {},
   "outputs": [
    {
     "name": "stdout",
     "output_type": "stream",
     "text": [
      "\n",
      "======================Train Result==========================\n",
      "Accuracy Score : 99.44%\n",
      "\n",
      "======================Test Result==========================\n",
      "Accuracy Score : 80.00%\n",
      "\n",
      " \n",
      " Test Classification Report \n",
      "               precision    recall  f1-score   support\n",
      "\n",
      "           0       0.78      0.70      0.74        10\n",
      "           1       0.74      0.93      0.82        54\n",
      "           2       0.60      0.21      0.32        14\n",
      "           3       0.80      0.83      0.82        54\n",
      "           4       0.00      0.00      0.00         2\n",
      "           5       0.00      0.00      0.00         6\n",
      "           6       1.00      0.95      0.98        22\n",
      "           7       1.00      1.00      1.00        18\n",
      "\n",
      "    accuracy                           0.80       180\n",
      "   macro avg       0.61      0.58      0.58       180\n",
      "weighted avg       0.77      0.80      0.78       180\n",
      "\n"
     ]
    }
   ],
   "source": [
    "metric_score(gb, X1_train, X1_test, Y1_train, Y1_test, train= True)\n",
    "metric_score(gb, X1_train, X1_test, Y1_train, Y1_test, train= False)"
   ]
  },
  {
   "cell_type": "code",
   "execution_count": 72,
   "id": "a5516d41",
   "metadata": {},
   "outputs": [],
   "source": [
    "from sklearn.linear_model import LogisticRegression\n",
    "lr = LogisticRegression(multi_class='multinomial', solver='lbfgs')\n",
    "lr.fit(X1_train, Y1_train)\n",
    "predictions = lr.predict(X1_test)"
   ]
  },
  {
   "cell_type": "code",
   "execution_count": 73,
   "id": "f99e6c3d",
   "metadata": {},
   "outputs": [],
   "source": [
    "models = RandomForestClassifier(), GradientBoostingClassifier(), DecisionTreeClassifier(), LogisticRegression()\n",
    "model_names = ['RandomForestClassifier', 'GradientBoostingClassifier', 'DecisionTreeClassifier', 'LogisticRegression']"
   ]
  },
  {
   "cell_type": "code",
   "execution_count": 74,
   "id": "246969f4",
   "metadata": {},
   "outputs": [
    {
     "name": "stdout",
     "output_type": "stream",
     "text": [
      "RandomForestClassifier: 0.78 +/- 0.03\n",
      "GradientBoostingClassifier: 0.78 +/- 0.04\n",
      "DecisionTreeClassifier: 0.72 +/- 0.05\n",
      "LogisticRegression: 0.64 +/- 0.02\n"
     ]
    }
   ],
   "source": [
    "from sklearn.model_selection import cross_val_score\n",
    "\n",
    "models = [RandomForestClassifier(), GradientBoostingClassifier(), DecisionTreeClassifier(), LogisticRegression()]\n",
    "\n",
    "# For each model\n",
    "for model in models:\n",
    "    # Perform cross-validation\n",
    "    scores = cross_val_score(model, X1, Y1, cv=5)\n",
    "    \n",
    "    # Print cross-validation score for each model\n",
    "    print(f'{type(model).__name__}: {scores.mean():.2f} +/- {scores.std():.2f}')"
   ]
  },
  {
   "cell_type": "code",
   "execution_count": 75,
   "id": "b9c0e2dc",
   "metadata": {},
   "outputs": [
    {
     "name": "stdout",
     "output_type": "stream",
     "text": [
      "                        Model  Cross_Val_Score  Std_Score\n",
      "0      RandomForestClassifier             0.83       0.03\n",
      "1  GradientBoostingClassifier             0.75       0.03\n",
      "2      DecisionTreeClassifier             0.77       0.04\n",
      "3          LogisticRegression             0.73       0.03\n"
     ]
    }
   ],
   "source": [
    "# Names of the models\n",
    "model_names = ['RandomForestClassifier', 'GradientBoostingClassifier', 'DecisionTreeClassifier', 'LogisticRegression']\n",
    "\n",
    "# Cross-validation scores\n",
    "cross_val_scores = [0.83, 0.75, 0.77, 0.73]\n",
    "# Standard Deviation scores\n",
    "std_scores = [0.03, 0.03, 0.04, 0.03] \n",
    "\n",
    "\n",
    "\n",
    "# Create a dataframe\n",
    "df = pd.DataFrame({\n",
    "    'Model': model_names,\n",
    "    'Cross_Val_Score': cross_val_scores,\n",
    "    'Std_Score': std_scores\n",
    "})\n",
    "\n",
    "# Print the dataframe\n",
    "print(df)"
   ]
  },
  {
   "cell_type": "code",
   "execution_count": 76,
   "id": "ade97d22",
   "metadata": {},
   "outputs": [
    {
     "name": "stdout",
     "output_type": "stream",
     "text": [
      "Cross-validation scores:  [0.8        0.75555556 0.83333333 0.79888268 0.77094972]\n",
      "Average cross-validation score:  0.7917442582247052\n"
     ]
    }
   ],
   "source": [
    "from sklearn.model_selection import cross_val_score\n",
    "from sklearn.ensemble import RandomForestClassifier\n",
    "\n",
    "model = RandomForestClassifier()\n",
    "\n",
    "scores = cross_val_score(model, X1, Y1, cv=5)\n",
    "\n",
    "print(\"Cross-validation scores: \", scores)\n",
    "print(\"Average cross-validation score: \", scores.mean())"
   ]
  },
  {
   "cell_type": "code",
   "execution_count": 77,
   "id": "eee4f22c",
   "metadata": {},
   "outputs": [
    {
     "name": "stdout",
     "output_type": "stream",
     "text": [
      "Best parameters found:  {'bootstrap': False, 'max_depth': None, 'min_samples_leaf': 1, 'min_samples_split': 2, 'n_estimators': 50}\n",
      "Best score found:  0.9511111111111111\n"
     ]
    }
   ],
   "source": [
    "# Generate some random data for demonstration\n",
    "x, y = make_classification(n_samples=900)\n",
    "\n",
    "# Create a Random Forest Classifier object\n",
    "rf = RandomForestClassifier()\n",
    "\n",
    "# Define a grid of hyperparameters\n",
    "param_grid = {\n",
    "    'n_estimators': [50, 100, 200],\n",
    "    'max_depth': [None, 10, 20, 30],\n",
    "    'min_samples_split': [2, 5, 10],\n",
    "    'min_samples_leaf': [1, 2, 4],\n",
    "    'bootstrap': [True, False]\n",
    "}\n",
    "\n",
    "# Create a GridSearchCV object\n",
    "grid_rf = GridSearchCV(estimator=rf, param_grid=param_grid, cv=5)\n",
    "\n",
    "# Fit the grid search object to the data\n",
    "grid_rf.fit(x, y)\n",
    "\n",
    "# Print the best parameters found\n",
    "print(\"Best parameters found: \", grid_rf.best_params_)\n",
    "\n",
    "# Print the best score found\n",
    "print(\"Best score found: \", grid_rf.best_score_)"
   ]
  },
  {
   "cell_type": "code",
   "execution_count": 79,
   "id": "db3090bc",
   "metadata": {},
   "outputs": [
    {
     "name": "stdout",
     "output_type": "stream",
     "text": [
      "Best parameters found:  {'bootstrap': False, 'max_depth': None, 'min_samples_leaf': 1, 'min_samples_split': 2, 'n_estimators': 50}\n",
      "Best score found:  0.9511111111111111\n"
     ]
    }
   ],
   "source": [
    "# Get the best parameters\n",
    "best_params = grid_rf.best_params_\n",
    "print(\"Best parameters found: \", best_params)\n",
    "\n",
    "# Get the best score\n",
    "best_score = grid_rf.best_score_\n",
    "print(\"Best score found: \", best_score)"
   ]
  },
  {
   "cell_type": "code",
   "execution_count": 80,
   "id": "12fb64e1",
   "metadata": {},
   "outputs": [
    {
     "data": {
      "text/plain": [
       "RandomForestClassifier(bootstrap=False, n_estimators=50)"
      ]
     },
     "execution_count": 80,
     "metadata": {},
     "output_type": "execute_result"
    }
   ],
   "source": [
    "#Reffitting the model \n",
    "best_rf = RandomForestClassifier(**best_params)\n",
    "best_rf.fit(X1_train, Y1_train)"
   ]
  },
  {
   "cell_type": "code",
   "execution_count": 83,
   "id": "d16eac94",
   "metadata": {},
   "outputs": [
    {
     "data": {
      "text/html": [
       "<div>\n",
       "<style scoped>\n",
       "    .dataframe tbody tr th:only-of-type {\n",
       "        vertical-align: middle;\n",
       "    }\n",
       "\n",
       "    .dataframe tbody tr th {\n",
       "        vertical-align: top;\n",
       "    }\n",
       "\n",
       "    .dataframe thead th {\n",
       "        text-align: right;\n",
       "    }\n",
       "</style>\n",
       "<table border=\"1\" class=\"dataframe\">\n",
       "  <thead>\n",
       "    <tr style=\"text-align: right;\">\n",
       "      <th></th>\n",
       "      <th>name</th>\n",
       "      <th>gppd_idnr</th>\n",
       "      <th>capacity_mw</th>\n",
       "      <th>latitude</th>\n",
       "      <th>longitude</th>\n",
       "      <th>source</th>\n",
       "      <th>geolocation_source</th>\n",
       "    </tr>\n",
       "  </thead>\n",
       "  <tbody>\n",
       "    <tr>\n",
       "      <th>0</th>\n",
       "      <td>8</td>\n",
       "      <td>791</td>\n",
       "      <td>4.54</td>\n",
       "      <td>16.2949</td>\n",
       "      <td>0.20325</td>\n",
       "      <td>2.168651</td>\n",
       "      <td>254.992372</td>\n",
       "    </tr>\n",
       "  </tbody>\n",
       "</table>\n",
       "</div>"
      ],
      "text/plain": [
       "   name  gppd_idnr  capacity_mw  latitude  longitude    source  \\\n",
       "0     8        791         4.54   16.2949    0.20325  2.168651   \n",
       "\n",
       "   geolocation_source  \n",
       "0          254.992372  "
      ]
     },
     "execution_count": 83,
     "metadata": {},
     "output_type": "execute_result"
    }
   ],
   "source": [
    "data_Predict= {'name': [8],\n",
    "              'gppd_idnr':[791],\n",
    "              'capacity_mw': [4.54],\n",
    "              'latitude':[16.2949],\n",
    "              'longitude':[0.20325],   \n",
    "              'source':[2.168651],\n",
    "              'geolocation_source': [254.992372]}\n",
    "df_pred = pd.DataFrame(data_Predict,index=[0])\n",
    "df_pred"
   ]
  },
  {
   "cell_type": "code",
   "execution_count": 84,
   "id": "17aedf1f",
   "metadata": {},
   "outputs": [
    {
     "name": "stdout",
     "output_type": "stream",
     "text": [
      "[7]\n"
     ]
    }
   ],
   "source": [
    "# Predicting the result using the best model. \n",
    "new_pred = best_rf.predict(df_pred)\n",
    "print(new_pred)"
   ]
  },
  {
   "cell_type": "code",
   "execution_count": 95,
   "id": "cf681c2b",
   "metadata": {},
   "outputs": [
    {
     "data": {
      "text/plain": [
       "array([1, 2, 1, 3, 2, 1, 1, 0, 7, 1, 1, 0, 1, 1, 1, 1, 2, 6, 1, 1, 3, 3,\n",
       "       6, 3, 3, 5, 7, 3, 2, 3, 3, 3, 6, 1, 7, 3, 1, 3, 6, 7, 6, 6, 1, 7,\n",
       "       1, 3, 7, 0, 7, 6, 3, 5, 1, 1, 6, 1, 0, 7, 1, 1, 3, 6, 2, 1, 6, 3,\n",
       "       3, 1, 3, 3, 1, 1, 3, 3, 3, 1, 0, 3, 3, 7, 0, 3, 1, 1, 3, 6, 1, 3,\n",
       "       3, 6, 1, 1, 6, 3, 3, 3, 1, 1, 1, 1, 6, 1, 1, 7, 0, 3, 3, 7, 7, 1,\n",
       "       0, 6, 3, 3, 7, 1, 1, 6, 3, 3, 3, 3, 2, 3, 1, 3, 5, 1, 3, 7, 1, 3,\n",
       "       3, 7, 6, 1, 0, 6, 3, 1, 6, 3, 1, 2, 2, 1, 3, 6, 7, 3, 1, 1, 3, 1,\n",
       "       2, 1, 1, 3, 3, 7, 3, 1, 1, 1, 1, 3, 7, 3, 3, 1, 1, 1, 6, 3, 1, 3,\n",
       "       1, 1, 1, 1], dtype=int64)"
      ]
     },
     "execution_count": 95,
     "metadata": {},
     "output_type": "execute_result"
    }
   ],
   "source": [
    "from joblib import dump, load\n",
    "\n",
    "# saving the model. \n",
    "dump(best_rf, 'best_rf.joblib') \n",
    "\n",
    "# Loading the model\n",
    "best_rf_from_joblib = load('best_rf.joblib') \n",
    "\n",
    "# using the loaded model to make predictions\n",
    "best_rf_from_joblib.predict(X1_test)"
   ]
  },
  {
   "cell_type": "code",
   "execution_count": 112,
   "id": "d375b355",
   "metadata": {},
   "outputs": [],
   "source": [
    "#Model 2 : capacity_mw"
   ]
  },
  {
   "cell_type": "code",
   "execution_count": 169,
   "id": "c10fad97",
   "metadata": {},
   "outputs": [],
   "source": [
    "X2 = df_new.drop(columns=['capacity_mw'])\n",
    "Y2 = df_new['capacity_mw']"
   ]
  },
  {
   "cell_type": "code",
   "execution_count": 170,
   "id": "3921a1d9",
   "metadata": {},
   "outputs": [],
   "source": [
    "# Split the data\n",
    "from sklearn.model_selection import train_test_split\n",
    "X2_train, X2_test, Y2_train, Y2_test = train_test_split(X2, Y2, test_size=0.2, random_state=42)"
   ]
  },
  {
   "cell_type": "code",
   "execution_count": 171,
   "id": "2f77e09e",
   "metadata": {},
   "outputs": [],
   "source": [
    "from sklearn.preprocessing import StandardScaler\n",
    "\n",
    "scaler = StandardScaler()\n",
    "X2_train_scaled = scaler.fit_transform(X2_train)\n",
    "X2_test_scaled = scaler.transform(X2_test)"
   ]
  },
  {
   "cell_type": "code",
   "execution_count": 172,
   "id": "b0b8b23c",
   "metadata": {},
   "outputs": [
    {
     "data": {
      "text/plain": [
       "DecisionTreeRegressor()"
      ]
     },
     "execution_count": 172,
     "metadata": {},
     "output_type": "execute_result"
    }
   ],
   "source": [
    "from sklearn.linear_model import LinearRegression\n",
    "from sklearn.ensemble import RandomForestRegressor\n",
    "from sklearn.ensemble import GradientBoostingRegressor\n",
    "from sklearn.tree import DecisionTreeRegressor\n",
    "from sklearn.metrics import mean_squared_error\n",
    "\n",
    "lr = LinearRegression()\n",
    "lr.fit(X2_train, Y2_train)\n",
    "\n",
    "rfr = RandomForestRegressor()\n",
    "rfr.fit(X2_train, Y2_train)\n",
    "\n",
    "gr = GradientBoostingRegressor()\n",
    "gr.fit(X2_train, Y2_train)\n",
    "\n",
    "dt = DecisionTreeRegressor()\n",
    "dt.fit(X2_train, Y2_train)"
   ]
  },
  {
   "cell_type": "code",
   "execution_count": 173,
   "id": "bc75bb99",
   "metadata": {},
   "outputs": [],
   "source": [
    "lr_predictions = lr.predict(X2_test)\n",
    "rfr_predictions = rfr.predict(X2_test)\n",
    "gr_predictions = gr.predict(X2_test)\n",
    "dt_predictions = dt.predict(X2_test)\n",
    "\n",
    "# Now, you can calculate the mean squared error for each model\n",
    "lr_mse = mean_squared_error(Y2_test, lr_predictions)\n",
    "rfr_mse = mean_squared_error(Y2_test, rfr_predictions)\n",
    "gr_mse = mean_squared_error(Y2_test, gr_predictions)\n",
    "dt_mse = mean_squared_error(Y2_test, dt_predictions)\n",
    "\n",
    "lr_mae = mean_absolute_error(Y2_test, lr_predictions)\n",
    "rfr_mae = mean_absolute_error(Y2_test, rfr_predictions)\n",
    "gr_mae = mean_absolute_error(Y2_test, gr_predictions)\n",
    "dt_mae = mean_absolute_error(Y2_test, dt_predictions)\n",
    "\n",
    "lr_r2 = r2_score(Y2_test, lr_predictions)\n",
    "rfr_r2 = r2_score(Y2_test, rfr_predictions)\n",
    "gr_r2 = r2_score(Y2_test, gr_predictions)\n",
    "dt_r2 = r2_score(Y2_test, dt_predictions)"
   ]
  },
  {
   "cell_type": "code",
   "execution_count": 174,
   "id": "fa36778f",
   "metadata": {},
   "outputs": [
    {
     "name": "stdout",
     "output_type": "stream",
     "text": [
      "Linear Regression MSE:  1.341829025848147\n",
      "Random Forest Regressor MSE:  0.8560562781475407\n",
      "Gradient Boosting Regressor MSE:  0.7990322765835651\n",
      "Decision Tree Regressor MSE:  1.4389695949148416\n",
      "\n",
      "Linear Regression MAE:  0.9360460608727487\n",
      "Random Forest Regressor MAE:  0.6942138425307058\n",
      "Gradient Boosting Regressor MAE:  0.6808259229907508\n",
      "Decision Tree Regressor MAE:  0.9018243326445765\n",
      "\n",
      "Linear Regression R2 Score:  0.43463483935274916\n",
      "Random Forest Regressor R2 Score:  0.63930993748473\n",
      "Gradient Boosting Regressor R2 Score:  0.663336384359799\n",
      "Decision Tree Regressor R2 Score:  0.39370571024776246\n"
     ]
    }
   ],
   "source": [
    "# Print Mean Squared Error for each model\n",
    "print(\"Linear Regression MSE: \", lr_mse)\n",
    "print(\"Random Forest Regressor MSE: \", rfr_mse)\n",
    "print(\"Gradient Boosting Regressor MSE: \", gr_mse)\n",
    "print(\"Decision Tree Regressor MSE: \", dt_mse)\n",
    "\n",
    "# Print Mean Absolute Error for each model\n",
    "print(\"\\nLinear Regression MAE: \", lr_mae)\n",
    "print(\"Random Forest Regressor MAE: \", rfr_mae)\n",
    "print(\"Gradient Boosting Regressor MAE: \", gr_mae)\n",
    "print(\"Decision Tree Regressor MAE: \", dt_mae)\n",
    "\n",
    "# Print R2 Score for each mode\n",
    "print(\"\\nLinear Regression R2 Score: \", lr_r2)\n",
    "print(\"Random Forest Regressor R2 Score: \", rfr_r2)\n",
    "print(\"Gradient Boosting Regressor R2 Score: \", gr_r2)\n",
    "print(\"Decision Tree Regressor R2 Score: \", dt_r2)"
   ]
  },
  {
   "cell_type": "code",
   "execution_count": 141,
   "id": "0ad59116",
   "metadata": {},
   "outputs": [
    {
     "name": "stdout",
     "output_type": "stream",
     "text": [
      "               Model  Mean Squared Error (MSE)  Mean Absolute Error (MAE)  \\\n",
      "0  Linear Regression                  1.341829                   0.936046   \n",
      "1      Random Forest                  0.857995                   0.696172   \n",
      "2  Gradient Boosting                  0.802101                   0.682662   \n",
      "3      Decision Tree                  1.476542                   0.903158   \n",
      "\n",
      "   R^2 Score  \n",
      "0   0.434635  \n",
      "1   0.638493  \n",
      "2   0.662043  \n",
      "3   0.377875  \n"
     ]
    }
   ],
   "source": [
    "# Create a table to compare the scores\n",
    "data = {\n",
    "    'Model': ['Linear Regression', 'Random Forest', 'Gradient Boosting', 'Decision Tree'],\n",
    "    'Mean Squared Error (MSE)': [lr_mse, rfr_mse, gr_mse, dt_mse],\n",
    "    'Mean Absolute Error (MAE)': [lr_mae, rfr_mae, gr_mae, dt_mae],\n",
    "    'R^2 Score': [lr_r2, rfr_r2, gr_r2, dt_r2]}\n",
    "\n",
    "df = pd.DataFrame(data)\n",
    "\n",
    "# Print the DataFrame\n",
    "print(df)"
   ]
  },
  {
   "cell_type": "code",
   "execution_count": 152,
   "id": "9a4e6139",
   "metadata": {},
   "outputs": [],
   "source": [
    "# Prection on the test data. \n",
    "y_pred1 = lr.predict(X1_test)\n",
    "y_pred2 = rfr.predict(X1_test)\n",
    "y_pred3 = gr.predict(X1_test)\n",
    "y_pred4 = dt.predict(X1_test)\n",
    "df2 = pd.DataFrame({'Actual': Y1_test, 'Lr': y_pred1, 'rfr': y_pred2, 'gr': y_pred3,'dt':y_pred4,})"
   ]
  },
  {
   "cell_type": "code",
   "execution_count": 153,
   "id": "22147191",
   "metadata": {},
   "outputs": [
    {
     "data": {
      "text/html": [
       "<div>\n",
       "<style scoped>\n",
       "    .dataframe tbody tr th:only-of-type {\n",
       "        vertical-align: middle;\n",
       "    }\n",
       "\n",
       "    .dataframe tbody tr th {\n",
       "        vertical-align: top;\n",
       "    }\n",
       "\n",
       "    .dataframe thead th {\n",
       "        text-align: right;\n",
       "    }\n",
       "</style>\n",
       "<table border=\"1\" class=\"dataframe\">\n",
       "  <thead>\n",
       "    <tr style=\"text-align: right;\">\n",
       "      <th></th>\n",
       "      <th>Actual</th>\n",
       "      <th>Lr</th>\n",
       "      <th>rfr</th>\n",
       "      <th>gr</th>\n",
       "      <th>dt</th>\n",
       "    </tr>\n",
       "  </thead>\n",
       "  <tbody>\n",
       "    <tr>\n",
       "      <th>334</th>\n",
       "      <td>1</td>\n",
       "      <td>-3.450689e+09</td>\n",
       "      <td>5.528062</td>\n",
       "      <td>5.313566</td>\n",
       "      <td>6.147334</td>\n",
       "    </tr>\n",
       "    <tr>\n",
       "      <th>645</th>\n",
       "      <td>1</td>\n",
       "      <td>-2.036163e+09</td>\n",
       "      <td>5.552200</td>\n",
       "      <td>5.664095</td>\n",
       "      <td>5.678354</td>\n",
       "    </tr>\n",
       "    <tr>\n",
       "      <th>329</th>\n",
       "      <td>3</td>\n",
       "      <td>-2.948060e+09</td>\n",
       "      <td>5.969920</td>\n",
       "      <td>5.591477</td>\n",
       "      <td>6.213798</td>\n",
       "    </tr>\n",
       "    <tr>\n",
       "      <th>855</th>\n",
       "      <td>3</td>\n",
       "      <td>-4.773575e+09</td>\n",
       "      <td>5.964234</td>\n",
       "      <td>5.251515</td>\n",
       "      <td>6.213798</td>\n",
       "    </tr>\n",
       "    <tr>\n",
       "      <th>39</th>\n",
       "      <td>1</td>\n",
       "      <td>-3.974285e+09</td>\n",
       "      <td>6.217250</td>\n",
       "      <td>6.296029</td>\n",
       "      <td>6.477705</td>\n",
       "    </tr>\n",
       "    <tr>\n",
       "      <th>...</th>\n",
       "      <td>...</td>\n",
       "      <td>...</td>\n",
       "      <td>...</td>\n",
       "      <td>...</td>\n",
       "      <td>...</td>\n",
       "    </tr>\n",
       "    <tr>\n",
       "      <th>784</th>\n",
       "      <td>3</td>\n",
       "      <td>-2.948060e+09</td>\n",
       "      <td>5.551771</td>\n",
       "      <td>5.543672</td>\n",
       "      <td>5.129266</td>\n",
       "    </tr>\n",
       "    <tr>\n",
       "      <th>25</th>\n",
       "      <td>6</td>\n",
       "      <td>-2.948060e+09</td>\n",
       "      <td>4.101979</td>\n",
       "      <td>3.018590</td>\n",
       "      <td>2.477808</td>\n",
       "    </tr>\n",
       "    <tr>\n",
       "      <th>84</th>\n",
       "      <td>1</td>\n",
       "      <td>-3.002233e+09</td>\n",
       "      <td>6.008122</td>\n",
       "      <td>5.393696</td>\n",
       "      <td>6.213798</td>\n",
       "    </tr>\n",
       "    <tr>\n",
       "      <th>10</th>\n",
       "      <td>1</td>\n",
       "      <td>-2.931249e+09</td>\n",
       "      <td>6.123261</td>\n",
       "      <td>5.498093</td>\n",
       "      <td>6.477705</td>\n",
       "    </tr>\n",
       "    <tr>\n",
       "      <th>335</th>\n",
       "      <td>2</td>\n",
       "      <td>-2.944842e+09</td>\n",
       "      <td>5.574337</td>\n",
       "      <td>5.313566</td>\n",
       "      <td>6.147334</td>\n",
       "    </tr>\n",
       "  </tbody>\n",
       "</table>\n",
       "<p>180 rows × 5 columns</p>\n",
       "</div>"
      ],
      "text/plain": [
       "     Actual            Lr       rfr        gr        dt\n",
       "334       1 -3.450689e+09  5.528062  5.313566  6.147334\n",
       "645       1 -2.036163e+09  5.552200  5.664095  5.678354\n",
       "329       3 -2.948060e+09  5.969920  5.591477  6.213798\n",
       "855       3 -4.773575e+09  5.964234  5.251515  6.213798\n",
       "39        1 -3.974285e+09  6.217250  6.296029  6.477705\n",
       "..      ...           ...       ...       ...       ...\n",
       "784       3 -2.948060e+09  5.551771  5.543672  5.129266\n",
       "25        6 -2.948060e+09  4.101979  3.018590  2.477808\n",
       "84        1 -3.002233e+09  6.008122  5.393696  6.213798\n",
       "10        1 -2.931249e+09  6.123261  5.498093  6.477705\n",
       "335       2 -2.944842e+09  5.574337  5.313566  6.147334\n",
       "\n",
       "[180 rows x 5 columns]"
      ]
     },
     "execution_count": 153,
     "metadata": {},
     "output_type": "execute_result"
    }
   ],
   "source": [
    "df2"
   ]
  },
  {
   "cell_type": "code",
   "execution_count": 159,
   "id": "03240ce4",
   "metadata": {},
   "outputs": [
    {
     "data": {
      "image/png": "[encoded data removed]",
      "text/plain": [
       "<Figure size 432x288 with 3 Axes>"
      ]
     },
     "metadata": {
      "needs_background": "light"
     },
     "output_type": "display_data"
    }
   ],
   "source": []
  },
  {
   "cell_type": "code",
   "execution_count": 161,
   "id": "377c9919",
   "metadata": {},
   "outputs": [
    {
     "data": {
      "image/png": "[encoded data removed]",
      "text/plain": [
       "<Figure size 1008x720 with 4 Axes>"
      ]
     },
     "metadata": {
      "needs_background": "light"
     },
     "output_type": "display_data"
    }
   ],
   "source": [
    "plt.figure(figsize=(14, 10))  # Adjust size of figure as per your needs\n",
    "\n",
    "plt.subplot(221)\n",
    "plt.plot(df2['Actual'].iloc[0:10], label='Actual')\n",
    "plt.plot(df2['rfr'].iloc[0:10], label=\"rfr\")\n",
    "plt.xlabel('Data Point')\n",
    "plt.ylabel('Value')\n",
    "plt.title('Comparison - Actual vs rfr')\n",
    "plt.legend()\n",
    "\n",
    "plt.subplot(222)\n",
    "plt.plot(df2['Actual'].iloc[0:10], label='Actual')\n",
    "plt.plot(df2['Lr'].iloc[0:10], label=\"Lr\")\n",
    "plt.xlabel('Data Point')\n",
    "plt.ylabel('Value')\n",
    "plt.title('Comparison - Actual vs Lr')\n",
    "plt.legend()\n",
    "\n",
    "plt.subplot(223)\n",
    "plt.plot(df2['Actual'].iloc[0:10], label='Actual')\n",
    "plt.plot(df2['gr'].iloc[0:10], label=\"gr\")\n",
    "plt.xlabel('Data Point')\n",
    "plt.ylabel('Value')\n",
    "plt.title('Comparison - Actual vs gr')\n",
    "plt.legend()\n",
    "\n",
    "plt.subplot(224)\n",
    "plt.plot(df2['Actual'].iloc[0:10], label='Actual')\n",
    "plt.plot(df2['dt'].iloc[0:10], label=\"dt\")\n",
    "plt.xlabel('Data Point')\n",
    "plt.ylabel('Value')\n",
    "plt.title('Comparison - Actual vs dt')\n",
    "plt.legend()\n",
    "\n",
    "plt.tight_layout()\n",
    "plt.show()\n"
   ]
  },
  {
   "cell_type": "code",
   "execution_count": 175,
   "id": "4a7fc861",
   "metadata": {},
   "outputs": [
    {
     "name": "stdout",
     "output_type": "stream",
     "text": [
      "The best model is: Gradient Boosting\n"
     ]
    }
   ],
   "source": [
    "# Calculating mean squared error (MSE) for each model\n",
    "mse_lr = mean_squared_error(df2['Actual'], df2['Lr'])\n",
    "mse_rfr = mean_squared_error(df2['Actual'], df2['rfr'])\n",
    "mse_gr = mean_squared_error(df2['Actual'], df2['gr'])\n",
    "mse_dt = mean_squared_error(df2['Actual'], df2['dt'])\n",
    "\n",
    "# dictionary that stores the MSE values\n",
    "mse_scores = {'Linear Regression': mse_lr,\n",
    "    'Random Forest': mse_rfr,\n",
    "    'Gradient Boosting': mse_gr,\n",
    "    'Decision Tree': mse_dt}\n",
    "\n",
    "# To find the best model \n",
    "best_model = min(mse_scores, key=mse_scores.get)\n",
    "\n",
    "print(\"The best model is:\", best_model)"
   ]
  },
  {
   "cell_type": "code",
   "execution_count": 176,
   "id": "b2208c07",
   "metadata": {},
   "outputs": [
    {
     "name": "stdout",
     "output_type": "stream",
     "text": [
      "Best Hyperparameters: {'max_depth': 5, 'min_samples_split': 4, 'n_estimators': 100}\n",
      "\n",
      "Best Model Evaluation:\n",
      "MSE: 12.910875538786984\n",
      "MAE: 3.278293850299349\n",
      "R-squared: -4.439857897297434\n"
     ]
    }
   ],
   "source": [
    "# Define the hyperparameter grid\n",
    "param_grid = {\n",
    "    'n_estimators': [100, 200, 300],\n",
    "    'max_depth': [3, 5, 7],\n",
    "    'min_samples_split': [2, 4, 6]\n",
    "}\n",
    "\n",
    "# Perform grid search with cross-validation\n",
    "grid_search = GridSearchCV(estimator=GradientBoostingRegressor(), param_grid=param_grid, scoring='neg_mean_squared_error', cv=5)\n",
    "grid_search.fit(X1_train, Y1_train)\n",
    "\n",
    "# Get the best hyperparameters and model\n",
    "best_params = grid_search.best_params_\n",
    "best_model = grid_search.best_estimator_\n",
    "\n",
    "print(\"Best Hyperparameters:\", best_params)\n",
    "print()\n",
    "\n",
    "# Train the best model on the entire training set\n",
    "best_model.fit(X1_train, Y1_train)\n",
    "\n",
    "# Evaluate the best model on the testing set\n",
    "best_predictions = best_model.predict(X2_test)\n",
    "best_mse = mean_squared_error(Y2_test, best_predictions)\n",
    "best_mae = mean_absolute_error(Y2_test, best_predictions)\n",
    "best_r2 = r2_score(Y2_test, best_predictions)\n",
    "\n",
    "print(\"Best Model Evaluation:\")\n",
    "print(\"MSE:\", best_mse)\n",
    "print(\"MAE:\", best_mae)\n",
    "print(\"R-squared:\", best_r2)"
   ]
  },
  {
   "cell_type": "code",
   "execution_count": 177,
   "id": "4f8581c4",
   "metadata": {},
   "outputs": [
    {
     "name": "stdout",
     "output_type": "stream",
     "text": [
      "0.8386061182905227\n"
     ]
    }
   ],
   "source": [
    "# Importing the joblib module\n",
    "from joblib import dump, load\n",
    "\n",
    "# Saving the model to disk\n",
    "filename = 'finalized_model.joblib'\n",
    "dump(best_model, filename)\n",
    "\n",
    "# Loading the model from disk\n",
    "loaded_model = load(filename)\n",
    "\n",
    "# Use the model to make predictions\n",
    "result = loaded_model.score(X1_test, Y1_test)\n",
    "print(result)"
   ]
  },
  {
   "cell_type": "code",
   "execution_count": 178,
   "id": "e4fef1d4",
   "metadata": {},
   "outputs": [
    {
     "name": "stdout",
     "output_type": "stream",
     "text": [
      "-4.439857897297434\n"
     ]
    }
   ],
   "source": [
    "# Saving the model to disk\n",
    "filename = 'finalized_model.joblib'\n",
    "dump(best_model, filename)\n",
    "\n",
    "# Load the model from disk\n",
    "loaded_model = load(filename)\n",
    "\n",
    "# Use the model to make predictions\n",
    "result = loaded_model.score(X2_test, Y2_test)\n",
    "print(result)"
   ]
  },
  {
   "cell_type": "code",
   "execution_count": null,
   "id": "81f63026",
   "metadata": {},
   "outputs": [],
   "source": []
  }
 ],
 "metadata": {
  "kernelspec": {
   "display_name": "Python 3 (ipykernel)",
   "language": "python",
   "name": "python3"
  },
  "language_info": {
   "codemirror_mode": {
    "name": "ipython",
    "version": 3
   },
   "file_extension": ".py",
   "mimetype": "text/x-python",
   "name": "python",
   "nbconvert_exporter": "python",
   "pygments_lexer": "ipython3",
   "version": "3.9.12"
  }
 },
 "nbformat": 4,
 "nbformat_minor": 5
}
